{
  "nbformat": 4,
  "nbformat_minor": 0,
  "metadata": {
    "colab": {
      "provenance": [],
      "collapsed_sections": [
        "HKcVUtAPN5vL",
        "jpURkIS4O2iW",
        "SrIYa0_iZlQY",
        "0vcX-sMciLKF",
        "c3kX1o49k3GE",
        "YkmK7Q75l1gs",
        "t7qcHLnUmrad",
        "Ntwj9XmwpFuU",
        "V3XcNOBJtui6",
        "LdjXEd2P7K8x",
        "UG2bpWjuxYS2",
        "DoT-bY0B5sSe",
        "oWoCgZnfvzJU",
        "piZYH1jitAcp",
        "1LQ-0x1Oftbg",
        "x4okWPtaErb7",
        "IGfCzLU7VNPt"
      ],
      "mount_file_id": "1jYzUo1_fWejqXjvekU4I9sd-yA-nLDpW",
      "authorship_tag": "ABX9TyMHVBxECxjfiGAaKmQ7UQmP",
      "include_colab_link": true
    },
    "kernelspec": {
      "name": "python3",
      "display_name": "Python 3"
    },
    "language_info": {
      "name": "python"
    }
  },
  "cells": [
    {
      "cell_type": "markdown",
      "metadata": {
        "id": "view-in-github",
        "colab_type": "text"
      },
      "source": [
        "<a href=\"https://colab.research.google.com/github/Balraju-kavide/python_learnings/blob/main/my_python_notes.ipynb\" target=\"_parent\"><img src=\"https://colab.research.google.com/assets/colab-badge.svg\" alt=\"Open In Colab\"/></a>"
      ]
    },
    {
      "cell_type": "markdown",
      "source": [
        "Basics of Python"
      ],
      "metadata": {
        "id": "bsm_oSCTDpwS"
      }
    },
    {
      "cell_type": "code",
      "source": [
        "from google.colab import drive\n",
        "drive.mount('/content/drive')"
      ],
      "metadata": {
        "colab": {
          "base_uri": "https://localhost:8080/"
        },
        "id": "NfUNzC4iJop5",
        "outputId": "f1d3f525-0287-4da0-c26d-76fbde66ddeb"
      },
      "execution_count": null,
      "outputs": [
        {
          "output_type": "stream",
          "name": "stdout",
          "text": [
            "Drive already mounted at /content/drive; to attempt to forcibly remount, call drive.mount(\"/content/drive\", force_remount=True).\n"
          ]
        }
      ]
    },
    {
      "cell_type": "code",
      "source": [
        "#what is python?\n",
        "\"\"\"1.Genral purpose prog. language,\n",
        "   2.High level programming language,\n",
        "   3.object oriented programming langugae----oop's,\n",
        "   4.Dynamically typed programming language,\n",
        "   5.interpreted programming language--- \"\"\"\n",
        "   #interprited programming language means it executes the code line by line.\n",
        "x = 10\n",
        "y = 5\n",
        "x = 30\n",
        "y = 60\n",
        "print(x+y)\n",
        "   #dynamically typed language means we are not defining the data types for variables in python.\n",
        "a = 20\n",
        "print(a)\n",
        "print(type(a))"
      ],
      "metadata": {
        "id": "Zq6oF3gPDZQm",
        "colab": {
          "base_uri": "https://localhost:8080/"
        },
        "outputId": "f03ce128-c2ff-437c-b86c-030362108ee3"
      },
      "execution_count": null,
      "outputs": [
        {
          "output_type": "stream",
          "name": "stdout",
          "text": [
            "90\n",
            "20\n",
            "<class 'int'>\n"
          ]
        }
      ]
    },
    {
      "cell_type": "markdown",
      "source": [
        "1.Genral purpose prog. language,\\n   2.High level programming language,\\n   3.object oriented programming langugae----oop's,\\n   4.Dynamically typed programming language,\\n   5.interpreted programming language---"
      ],
      "metadata": {
        "id": "2TuwCM1PDiBd"
      }
    },
    {
      "cell_type": "code",
      "source": [
        "#what is stastically typed programming laguage?\n",
        "#in tastically typed programming laguage we need to define data type for variables\n",
        "#ex: java,c++\n",
        "\n",
        "\n",
        "# what is low level programming language?\n",
        "#low level are machine friendly languages\n",
        "#in this the code is changing to binary form ex: [010101]\n",
        "#more lines of code\n",
        "\n",
        "#what is an High level language\n",
        "#human friendly language\n",
        "#low lines of code\n",
        "#it is like an english language"
      ],
      "metadata": {
        "id": "Ywt3WXu3GkSw"
      },
      "execution_count": null,
      "outputs": []
    },
    {
      "cell_type": "code",
      "source": [
        "#IDE :- INTEGRATED DEVELOPMENT EVIRONMENT\n",
        "#how can you define an ide?\n",
        "#code compiller, code executer, interpretor"
      ],
      "metadata": {
        "id": "ISzWwVjdDlJe"
      },
      "execution_count": null,
      "outputs": []
    },
    {
      "cell_type": "code",
      "source": [
        "#print \"Hello world\" by using python prog lang?\n",
        "print(\"Hello world!\")\n"
      ],
      "metadata": {
        "colab": {
          "base_uri": "https://localhost:8080/"
        },
        "id": "lh3_w7wjD4W0",
        "outputId": "c086fdb2-0479-4321-9c4b-8b328d8c3981"
      },
      "execution_count": null,
      "outputs": [
        {
          "output_type": "stream",
          "name": "stdout",
          "text": [
            "Hello world!\n"
          ]
        }
      ]
    },
    {
      "cell_type": "markdown",
      "source": [
        "Numerical data types"
      ],
      "metadata": {
        "id": "hJbKxiQEH1Zn"
      }
    },
    {
      "cell_type": "code",
      "source": [
        "#there are 3 types\n",
        "#Integer-->int-->a whole number without decimal point either +ve or -ve is known as integer\n",
        "print(10)\n",
        "#find the data type or class of above integer\n",
        "#type():-function is used to find the data type\n",
        "print(type(10))\n",
        "print(-10)\n",
        "print(type(-10))"
      ],
      "metadata": {
        "colab": {
          "base_uri": "https://localhost:8080/"
        },
        "id": "_ID3jARgIBxG",
        "outputId": "477a4da3-fb2d-4051-c5f5-98256d891ae6"
      },
      "execution_count": null,
      "outputs": [
        {
          "output_type": "stream",
          "name": "stdout",
          "text": [
            "10\n",
            "<class 'int'>\n",
            "-10\n",
            "<class 'int'>\n"
          ]
        }
      ]
    },
    {
      "cell_type": "code",
      "source": [
        "#float:- a whole number with decimal points either +ve or -ve\n",
        "print(10.5)\n",
        "print(type(10.5))\n",
        "#print the data type for given numbers:- 10.0, 2.1, 3.5, -6.0, -2"
      ],
      "metadata": {
        "colab": {
          "base_uri": "https://localhost:8080/"
        },
        "id": "1KtPvVJ0JPja",
        "outputId": "5f21739f-4413-4eb3-cdee-524d36d32dbd"
      },
      "execution_count": null,
      "outputs": [
        {
          "output_type": "stream",
          "name": "stdout",
          "text": [
            "10.5\n",
            "<class 'float'>\n"
          ]
        }
      ]
    },
    {
      "cell_type": "code",
      "source": [
        "#Complex Numbers:- A real number with its imaginary part is known as complex numbers\n",
        "print(-10 + 5j)\n",
        "print(type(-10 + 5j))\n",
        "#\"j\" is known  as \"iota\"-->root(-1)"
      ],
      "metadata": {
        "colab": {
          "base_uri": "https://localhost:8080/"
        },
        "id": "HiONba9uJZYP",
        "outputId": "0a2a864d-ddb5-4179-98d0-b1e1eb26dee9"
      },
      "execution_count": null,
      "outputs": [
        {
          "output_type": "stream",
          "name": "stdout",
          "text": [
            "(-10+5j)\n",
            "<class 'complex'>\n"
          ]
        }
      ]
    },
    {
      "cell_type": "code",
      "source": [
        "#what is commenting and why it is important?\n",
        "#for the better understhanding of the code we are encourging comments\n",
        "#--->single line comment\n",
        "\"\"\" multiline,\n",
        " comment \"\"\"\n",
        "\n",
        "''' hi\n",
        "i am learning comments '''"
      ],
      "metadata": {
        "id": "HwGjWjYZHRZy"
      },
      "execution_count": null,
      "outputs": []
    },
    {
      "cell_type": "markdown",
      "source": [
        "# **Arthamatic operators**"
      ],
      "metadata": {
        "id": "9Q_jPDQ8NS3v"
      }
    },
    {
      "cell_type": "code",
      "source": [
        "#there rae 7 seven arthamatic operators\n",
        "#Addition-->+\n",
        "print(10+5)\n",
        "print(type(10 + 5))\n",
        "#Subtraction-->-\n",
        "print(10-5)\n",
        "print(type(10 - 5))\n",
        "#Multiplication-->*\n",
        "print(10*5)\n",
        "print(type(10 * 5))\n",
        "#Division-->/\n",
        "print(10/5)\n",
        "print(type(10 / 5))"
      ],
      "metadata": {
        "colab": {
          "base_uri": "https://localhost:8080/"
        },
        "id": "cmoRIWtMNSjo",
        "outputId": "a56df324-a020-473a-8a91-403b7bb1b4f8"
      },
      "execution_count": null,
      "outputs": [
        {
          "output_type": "stream",
          "name": "stdout",
          "text": [
            "15\n",
            "<class 'int'>\n",
            "5\n",
            "<class 'int'>\n",
            "50\n",
            "<class 'int'>\n",
            "2.0\n",
            "<class 'float'>\n"
          ]
        }
      ]
    },
    {
      "cell_type": "code",
      "source": [
        "#Modulus-->%-- nothing but remainder of the divison\n",
        "print(10 % 5)\n",
        "print(10 % 3)\n",
        "print(type(10 % 3))\n",
        "#exponential---> **--> to the power off\n",
        "print(10 ** 5)\n",
        "print(type(10 ** 5))"
      ],
      "metadata": {
        "colab": {
          "base_uri": "https://localhost:8080/"
        },
        "id": "TLHml4YxNoUF",
        "outputId": "89ae90b7-80f6-4d71-8c7b-2d9a2bb772a0"
      },
      "execution_count": null,
      "outputs": [
        {
          "output_type": "stream",
          "name": "stdout",
          "text": [
            "0\n",
            "1\n",
            "<class 'int'>\n",
            "100000\n",
            "<class 'int'>\n"
          ]
        }
      ]
    },
    {
      "cell_type": "code",
      "source": [
        "#why the default data type for divison is float?\n",
        "\"\"\"when your doing the divion sometime if you want\n",
        "exact co-efficient you may get decimal values instead\n",
        "denoting the data type by default \"gudeo van rossum\"\n",
        "mention it as float\"\"\""
      ],
      "metadata": {
        "id": "8H0JcViTNt1A"
      },
      "execution_count": null,
      "outputs": []
    },
    {
      "cell_type": "code",
      "source": [
        "#7.Floor Division: it will ignores the value after decimal point-->//\n",
        "print(10 / 3)\n",
        "print(10//3)\n",
        "print(type(10//3))"
      ],
      "metadata": {
        "colab": {
          "base_uri": "https://localhost:8080/"
        },
        "id": "JqnfP1UGN0UC",
        "outputId": "079f18d8-a649-4a48-80ff-ee346b4ce67a"
      },
      "execution_count": null,
      "outputs": [
        {
          "output_type": "stream",
          "name": "stdout",
          "text": [
            "3.3333333333333335\n",
            "3\n",
            "<class 'int'>\n"
          ]
        }
      ]
    },
    {
      "cell_type": "markdown",
      "source": [
        "# Round()"
      ],
      "metadata": {
        "id": "HKcVUtAPN5vL"
      }
    },
    {
      "cell_type": "code",
      "source": [
        "#print the specific decimal values?\n",
        "print(round(2.5326,2))"
      ],
      "metadata": {
        "colab": {
          "base_uri": "https://localhost:8080/"
        },
        "id": "vri3c0YQOSAR",
        "outputId": "9280da02-39e4-4be4-f031-f10cb7a2f535"
      },
      "execution_count": null,
      "outputs": [
        {
          "output_type": "stream",
          "name": "stdout",
          "text": [
            "2.53\n"
          ]
        }
      ]
    },
    {
      "cell_type": "code",
      "source": [
        "print(round(2.4326))"
      ],
      "metadata": {
        "colab": {
          "base_uri": "https://localhost:8080/"
        },
        "id": "kiDwQqFdOcSn",
        "outputId": "5056f564-780a-40b0-fa03-89ac8598c1c9"
      },
      "execution_count": null,
      "outputs": [
        {
          "output_type": "stream",
          "name": "stdout",
          "text": [
            "2\n"
          ]
        }
      ]
    },
    {
      "cell_type": "code",
      "source": [
        "#what is floor value?\n",
        "It gives the largest nearest integer of the specified value.\n",
        "#what is ceiling vale?\n",
        "the least integer number greater than or equal to the given number"
      ],
      "metadata": {
        "id": "9KfEKF_COnYc"
      },
      "execution_count": null,
      "outputs": []
    },
    {
      "cell_type": "markdown",
      "source": [
        "#Variables"
      ],
      "metadata": {
        "id": "jpURkIS4O2iW"
      }
    },
    {
      "cell_type": "code",
      "source": [
        "\"\"\"are the containers where you can store your valuable information and reuse it\"\"\"\n",
        "#How can u access the variables\n",
        "#i am using print statement along with varaible name to access the varible\n",
        "#what is the purpose of varaibles?\n",
        "#it is used reduce the memory size\n",
        "\"\"\" rules of creating the variables\n",
        "   1. always starts with the alphabets.\n",
        "   2. dont start creating the vaariable with numbers\n",
        "   3. if you follow the rule no.1 & 2 then you can start creating varriables with alphabets in betweeen you can include the numbers\n",
        "   4. you should not give spaces in between the variables\n",
        "   5. you can start the variables and dont use the special characters\n",
        "   6. you can start creating variables with under space(_) special charaters.\"\"\"\n",
        "\n",
        "x = 10\n",
        "y = 5\n",
        "#do all the arthmatic operation\n",
        "print(x + y)\n",
        "print(x - y)\n",
        "print(x * y)\n",
        "print(x / y)\n",
        "print(x % y)\n",
        "print(x ** y)\n",
        "print(x // y)"
      ],
      "metadata": {
        "colab": {
          "base_uri": "https://localhost:8080/"
        },
        "id": "s5zSDxVpO1cx",
        "outputId": "1ac9900c-21c2-4e53-db85-632602894ee0"
      },
      "execution_count": null,
      "outputs": [
        {
          "output_type": "stream",
          "name": "stdout",
          "text": [
            "15\n",
            "5\n",
            "50\n",
            "2.0\n",
            "0\n",
            "100000\n",
            "2\n"
          ]
        }
      ]
    },
    {
      "cell_type": "code",
      "source": [
        "#What are local variables and global variables in Python?\n",
        "#Global Variables: Variables declared outside a function or in a global space are called global variables. These variables can be accessed by any function in the program.\n",
        "\n",
        "#Local Variables: Any variable declared inside a function is known as a local variable. This variable is present in the local space and not in the global space."
      ],
      "metadata": {
        "id": "fDhST7wuXbaI"
      },
      "execution_count": null,
      "outputs": []
    },
    {
      "cell_type": "code",
      "source": [
        "#what is interpreted?\n",
        "#excute the code lin by line\n",
        "\n",
        "x = 5\n",
        "y= 10\n",
        "x = 20\n",
        "y = 40\n",
        "print(x+y)"
      ],
      "metadata": {
        "colab": {
          "base_uri": "https://localhost:8080/"
        },
        "id": "-YtSF-m6PDl3",
        "outputId": "fd5a2666-d45e-444b-dfca-c9ae9c4ba4fc"
      },
      "execution_count": null,
      "outputs": [
        {
          "output_type": "stream",
          "name": "stdout",
          "text": [
            "60\n"
          ]
        }
      ]
    },
    {
      "cell_type": "code",
      "source": [
        "#Python is case sensitive language.\n",
        "s = \"hello world\"\n",
        "print(S)\n"
      ],
      "metadata": {
        "id": "JUc15-OCPJWw"
      },
      "execution_count": null,
      "outputs": []
    },
    {
      "cell_type": "markdown",
      "source": [
        "# Input()"
      ],
      "metadata": {
        "id": "SrIYa0_iZlQY"
      }
    },
    {
      "cell_type": "code",
      "source": [
        "#what is input()?\n",
        "\"\"\" it takes the information/data/value given by the user\"\"\"\n",
        "#where we have to use this input()?\n",
        "\"\"\"when user is giving multiple informatin/data/value to the same variables then we have to use the input()\"\"\"\n",
        "#what is the perpose if using the input()?\n",
        "\"\"\" to maintain the memory\"\"\"\n",
        "\n",
        "x = input(\"enter the number: \")\n",
        "print(x)\n",
        "print(type(x))"
      ],
      "metadata": {
        "colab": {
          "base_uri": "https://localhost:8080/"
        },
        "id": "QsutZ_uTZkBO",
        "outputId": "de0f0472-86fb-459d-94ee-e4bd42056dd3"
      },
      "execution_count": null,
      "outputs": [
        {
          "output_type": "stream",
          "name": "stdout",
          "text": [
            "enter the number: 46\n",
            "46\n",
            "<class 'str'>\n"
          ]
        }
      ]
    },
    {
      "cell_type": "code",
      "source": [
        "#what is the default data type for input()?\n",
        "#string\n",
        "#user my give different types of information/data/value the input function has buillt in such a wany any kind of information, thants why defalt data type is string"
      ],
      "metadata": {
        "id": "zbwaV27Vc0F-"
      },
      "execution_count": null,
      "outputs": []
    },
    {
      "cell_type": "markdown",
      "source": [
        "# string()"
      ],
      "metadata": {
        "id": "0vcX-sMciLKF"
      }
    },
    {
      "cell_type": "code",
      "source": [
        "#what is strings?\n",
        "#collection multiple characters that are written inside quotes.--(\" \") or(' ')\n",
        "#How can you denote or write a multiline string.?\n",
        "print(\"\"\"hi\n",
        "iam using pyhton multiline string\n",
        "this is my 1st execution \"\"\")"
      ],
      "metadata": {
        "id": "Sq5_YaE3hbO5"
      },
      "execution_count": null,
      "outputs": []
    },
    {
      "cell_type": "code",
      "source": [
        "#string is a collection mutliple characters, Each character in string can be accessible.\n",
        "#How can we access each character in a string?\n",
        "#we are using \"Indexing\" and \"slicing operator\" to access the specific characters in a string"
      ],
      "metadata": {
        "id": "NXpqNEm2j6WI"
      },
      "execution_count": null,
      "outputs": []
    },
    {
      "cell_type": "code",
      "source": [
        "#indexing:- positional number of each character in a string\n",
        "#these indexing can be starts with zero\n",
        "#Slicing Operator: ---> [] --> it is use to break the string. also used to retrive substring from the main string."
      ],
      "metadata": {
        "id": "9imWVR8dj6S6"
      },
      "execution_count": null,
      "outputs": []
    },
    {
      "cell_type": "code",
      "source": [
        "#what is substring?\n",
        "#is nothing but a part of main string"
      ],
      "metadata": {
        "id": "EJzXwWimj6Qe"
      },
      "execution_count": null,
      "outputs": []
    },
    {
      "cell_type": "code",
      "source": [
        "x = \"Hello world!\"\n",
        "print(x)"
      ],
      "metadata": {
        "colab": {
          "base_uri": "https://localhost:8080/"
        },
        "id": "CZfiTwlyj6OD",
        "outputId": "628197f1-0fad-4c7e-e346-97aedaa334dc"
      },
      "execution_count": null,
      "outputs": [
        {
          "output_type": "stream",
          "name": "stdout",
          "text": [
            "Hello world!\n"
          ]
        }
      ]
    },
    {
      "cell_type": "code",
      "source": [
        "#how to find how many indexs and how to find length of a string?\n",
        "x = \"Hello world!\"\n",
        "#to find the length of string we are using len function-->len()\n",
        "#length can be start from the 1\n",
        "print(len(x))\n",
        "#if you want to find the total index sunstract length - 1\n",
        "print(len(x)-1)"
      ],
      "metadata": {
        "colab": {
          "base_uri": "https://localhost:8080/"
        },
        "id": "klFb4a-yj6Ln",
        "outputId": "33843ab5-69cd-4f9a-f901-0b74d2ff6bf9"
      },
      "execution_count": null,
      "outputs": [
        {
          "output_type": "stream",
          "name": "stdout",
          "text": [
            "12\n",
            "11\n"
          ]
        }
      ]
    },
    {
      "cell_type": "code",
      "source": [
        "#[start_index value#]\n",
        "x = \"Hello world!\"\n",
        "print(x[0])\n",
        "print(x[6])"
      ],
      "metadata": {
        "colab": {
          "base_uri": "https://localhost:8080/"
        },
        "id": "RED97tBWj6C2",
        "outputId": "39bb5f31-e534-4542-9ecc-78131ed9df23"
      },
      "execution_count": null,
      "outputs": [
        {
          "output_type": "stream",
          "name": "stdout",
          "text": [
            "H\n",
            "w\n"
          ]
        }
      ]
    },
    {
      "cell_type": "code",
      "source": [
        "#if i want range of characters  for example print \"llo wo\" from above string?\n",
        "#[start_index value,end_indexvalue]\n",
        "print(x[2:8])  #end--> always ---n + 1\n",
        "#when your print range of character by using slicing operation the end character, if u want to display then add it wit 1"
      ],
      "metadata": {
        "colab": {
          "base_uri": "https://localhost:8080/"
        },
        "id": "wecjaZJzkKcz",
        "outputId": "faab6e06-ccac-4d8f-e3a8-7b5d6a160a04"
      },
      "execution_count": null,
      "outputs": [
        {
          "output_type": "stream",
          "name": "stdout",
          "text": [
            "llo wo\n"
          ]
        }
      ]
    },
    {
      "cell_type": "code",
      "source": [
        "#print \"world\" from above string?\n",
        "print(x[6:11])"
      ],
      "metadata": {
        "colab": {
          "base_uri": "https://localhost:8080/"
        },
        "id": "c1dlAq-zkKZc",
        "outputId": "fe029f5b-c4f2-4bc3-d3fb-d725951f05b9"
      },
      "execution_count": null,
      "outputs": [
        {
          "output_type": "stream",
          "name": "stdout",
          "text": [
            "world\n"
          ]
        }
      ]
    },
    {
      "cell_type": "markdown",
      "source": [
        "#slicing[]"
      ],
      "metadata": {
        "id": "c3kX1o49k3GE"
      }
    },
    {
      "cell_type": "code",
      "source": [
        "#print characters of the even position for the given string \"Hello world!\"\n",
        "#HL0WRD\n",
        "#[\"start:end:step\"]\n",
        "a = \"Hello world!\"\n",
        "print(a[0:12:3])"
      ],
      "metadata": {
        "colab": {
          "base_uri": "https://localhost:8080/"
        },
        "id": "E8UHLukHkKWx",
        "outputId": "0d793291-a5e2-4a9f-f0d3-df4ad9dc4ff3"
      },
      "execution_count": null,
      "outputs": [
        {
          "output_type": "stream",
          "name": "stdout",
          "text": [
            "Hlwl\n"
          ]
        }
      ]
    },
    {
      "cell_type": "code",
      "source": [
        "#Prind odd index position characters?\n",
        "print(a[1:12:2])\n"
      ],
      "metadata": {
        "colab": {
          "base_uri": "https://localhost:8080/"
        },
        "id": "fg5bP641kKUN",
        "outputId": "ab79b0d1-b744-4c63-bed4-b4590a36bd41"
      },
      "execution_count": null,
      "outputs": [
        {
          "output_type": "stream",
          "name": "stdout",
          "text": [
            "el ol!\n"
          ]
        }
      ]
    },
    {
      "cell_type": "code",
      "source": [
        "print(a[1::2]) #-->odd position characters\n",
        "print(a[::1]) #-->overall string\n",
        "print(a[::2]) #even position characters\n",
        "#default the step value can be 1"
      ],
      "metadata": {
        "colab": {
          "base_uri": "https://localhost:8080/"
        },
        "id": "J7vE9fkSj52p",
        "outputId": "ab1007e6-9e5a-4851-e3e7-ac9daff63c9e"
      },
      "execution_count": null,
      "outputs": [
        {
          "output_type": "stream",
          "name": "stdout",
          "text": [
            "el ol!\n",
            "Hello world!\n",
            "Hlowrd\n"
          ]
        }
      ]
    },
    {
      "cell_type": "markdown",
      "source": [
        "#negative indexing"
      ],
      "metadata": {
        "id": "YkmK7Q75l1gs"
      }
    },
    {
      "cell_type": "code",
      "source": [
        "#what is -ve indexing?\n",
        "#indexing the postional characters from right to lest(reverse direction) by using -ve numbers\n",
        "#-ve indexing can be starts with -1\n",
        "#By using the -ve indexing we can access the characters in reverse direction.\n",
        "s = \"Hello world!\"\n",
        "#[start]\n",
        "#print the w by using -ve indexing?\n",
        "print(s[-6])"
      ],
      "metadata": {
        "colab": {
          "base_uri": "https://localhost:8080/"
        },
        "id": "9DM3HLMclyKY",
        "outputId": "fb86f686-93a9-4de1-e81a-cfff03cb0be8"
      },
      "execution_count": null,
      "outputs": [
        {
          "output_type": "stream",
          "name": "stdout",
          "text": [
            "w\n"
          ]
        }
      ]
    },
    {
      "cell_type": "code",
      "source": [
        "#Print range of characters in -ve indexing?\n",
        "#world\n",
        "print(a[-6:-1])"
      ],
      "metadata": {
        "colab": {
          "base_uri": "https://localhost:8080/"
        },
        "id": "dGsNUWzQlyGt",
        "outputId": "3a4ba44a-76b9-4c48-fe8b-5d42cc60bb11"
      },
      "execution_count": null,
      "outputs": [
        {
          "output_type": "stream",
          "name": "stdout",
          "text": [
            "world\n"
          ]
        }
      ]
    },
    {
      "cell_type": "code",
      "source": [
        "#reverse a string \"hello word!\"\n",
        "#!drow olleh\n",
        "#[start:end:step]\n",
        "print(a[-1:-13:-1])"
      ],
      "metadata": {
        "colab": {
          "base_uri": "https://localhost:8080/"
        },
        "id": "rAQ01WWrlyDx",
        "outputId": "e989748a-fe27-4c64-b308-7b6468664391"
      },
      "execution_count": null,
      "outputs": [
        {
          "output_type": "stream",
          "name": "stdout",
          "text": [
            "!dlrow olleH\n"
          ]
        }
      ]
    },
    {
      "cell_type": "code",
      "source": [
        "print(a[::-1])"
      ],
      "metadata": {
        "colab": {
          "base_uri": "https://localhost:8080/"
        },
        "id": "DUfy4hG9lyAo",
        "outputId": "caffd686-b976-4ff5-94c0-b723d5f40f9f"
      },
      "execution_count": null,
      "outputs": [
        {
          "output_type": "stream",
          "name": "stdout",
          "text": [
            "!dlrow olleH\n"
          ]
        }
      ]
    },
    {
      "cell_type": "code",
      "source": [
        "#check weather the given string is palindrome or not?\n",
        "a = input(\"enter your string: \")\n",
        "print(a[::-1])"
      ],
      "metadata": {
        "colab": {
          "base_uri": "https://localhost:8080/"
        },
        "id": "TLMepGuUlx9L",
        "outputId": "1acb734e-87b2-4ce3-b1d1-4f77ef0f9771"
      },
      "execution_count": null,
      "outputs": [
        {
          "output_type": "stream",
          "name": "stdout",
          "text": [
            "enter your string: balu\n",
            "ulab\n"
          ]
        }
      ]
    },
    {
      "cell_type": "markdown",
      "source": [
        "#String methods"
      ],
      "metadata": {
        "id": "t7qcHLnUmrad"
      }
    },
    {
      "cell_type": "code",
      "source": [
        "#what are all methods applicable on given string?\n",
        "# use dir() it will tells you what are all the methods can be applicable for given string\n",
        "#what is dir()?\n",
        "#it returns what are all the methods applicable on given string\n",
        "\n",
        "a = \"hello world\"\n",
        "#to find methods use dir()\n",
        "print(dir(a))"
      ],
      "metadata": {
        "colab": {
          "base_uri": "https://localhost:8080/"
        },
        "id": "c7TOvjvglx6N",
        "outputId": "4a1e0be0-fc44-4aef-b389-7843dcaccd11"
      },
      "execution_count": null,
      "outputs": [
        {
          "output_type": "stream",
          "name": "stdout",
          "text": [
            "['__add__', '__class__', '__contains__', '__delattr__', '__dir__', '__doc__', '__eq__', '__format__', '__ge__', '__getattribute__', '__getitem__', '__getnewargs__', '__gt__', '__hash__', '__init__', '__init_subclass__', '__iter__', '__le__', '__len__', '__lt__', '__mod__', '__mul__', '__ne__', '__new__', '__reduce__', '__reduce_ex__', '__repr__', '__rmod__', '__rmul__', '__setattr__', '__sizeof__', '__str__', '__subclasshook__', 'capitalize', 'casefold', 'center', 'count', 'encode', 'endswith', 'expandtabs', 'find', 'format', 'format_map', 'index', 'isalnum', 'isalpha', 'isascii', 'isdecimal', 'isdigit', 'isidentifier', 'islower', 'isnumeric', 'isprintable', 'isspace', 'istitle', 'isupper', 'join', 'ljust', 'lower', 'lstrip', 'maketrans', 'partition', 'removeprefix', 'removesuffix', 'replace', 'rfind', 'rindex', 'rjust', 'rpartition', 'rsplit', 'rstrip', 'split', 'splitlines', 'startswith', 'strip', 'swapcase', 'title', 'translate', 'upper', 'zfill']\n"
          ]
        }
      ]
    },
    {
      "cell_type": "code",
      "source": [
        "#important string methods\n",
        "#1. capitalize\n",
        "a= \"balu\"\n",
        "print(a.capitalize())  #-->o/p--> Hello wprld\n",
        "#2.upper\n",
        "print(a.upper())  #-->o/p-->HELLO WORLD"
      ],
      "metadata": {
        "colab": {
          "base_uri": "https://localhost:8080/"
        },
        "id": "zvW2nA-OmzPe",
        "outputId": "ea031394-a94d-4bd5-ee1f-15b079b2bda2"
      },
      "execution_count": null,
      "outputs": [
        {
          "output_type": "stream",
          "name": "stdout",
          "text": [
            "Balu\n",
            "BALU\n"
          ]
        }
      ]
    },
    {
      "cell_type": "code",
      "source": [
        "#3.lower\n",
        "a = \"HELLO WORLD\"\n",
        "print(a.lower())"
      ],
      "metadata": {
        "colab": {
          "base_uri": "https://localhost:8080/"
        },
        "id": "rGpWZbA3mzME",
        "outputId": "f168b28d-ee4a-431b-f114-f6827ca087a0"
      },
      "execution_count": null,
      "outputs": [
        {
          "output_type": "stream",
          "name": "stdout",
          "text": [
            "hello world\n"
          ]
        }
      ]
    },
    {
      "cell_type": "code",
      "source": [
        "#title\n",
        "#swapcase\n",
        "#replace ***\n",
        "#strip\n",
        "#rstrip\n",
        "#lstrip"
      ],
      "metadata": {
        "id": "4vKNIPOLmzJT"
      },
      "execution_count": null,
      "outputs": []
    },
    {
      "cell_type": "code",
      "source": [
        "a = \"  helo world   \"\n",
        "print(a.strip())\n",
        "print(a.lstrip())\n",
        "print(a.rstrip())"
      ],
      "metadata": {
        "colab": {
          "base_uri": "https://localhost:8080/"
        },
        "id": "1G5KsfL3mzGh",
        "outputId": "fa719e66-0862-43f0-caee-c0ab054058d1"
      },
      "execution_count": null,
      "outputs": [
        {
          "output_type": "stream",
          "name": "stdout",
          "text": [
            "helo world\n",
            "helo world   \n",
            "  helo world\n"
          ]
        }
      ]
    },
    {
      "cell_type": "code",
      "source": [
        "a = \"hello good morning\"\n",
        "print(a.replace(\"morning\",\"afternoon\",))"
      ],
      "metadata": {
        "colab": {
          "base_uri": "https://localhost:8080/"
        },
        "id": "cDJoi-lXmzDy",
        "outputId": "3d2cecfa-c1a9-4653-9043-9426ab82aa4c"
      },
      "execution_count": null,
      "outputs": [
        {
          "output_type": "stream",
          "name": "stdout",
          "text": [
            "hello good afternoon\n"
          ]
        }
      ]
    },
    {
      "cell_type": "code",
      "source": [
        "#find\n",
        "#zfill\n",
        "#isalpha\n",
        "#isalnum\n",
        "#replace hello world with  \"Hello UNIVERSE\"?"
      ],
      "metadata": {
        "id": "UQjszX_emzAq"
      },
      "execution_count": null,
      "outputs": []
    },
    {
      "cell_type": "code",
      "source": [
        "a = \"hello i am practicing python daily 2 times\"\n",
        "print(a.isalpha())"
      ],
      "metadata": {
        "colab": {
          "base_uri": "https://localhost:8080/"
        },
        "id": "p04rl0Wcn6Zp",
        "outputId": "a98935fd-066e-46da-b3cc-10ba079101b0"
      },
      "execution_count": null,
      "outputs": [
        {
          "output_type": "stream",
          "name": "stdout",
          "text": [
            "False\n"
          ]
        }
      ]
    },
    {
      "cell_type": "code",
      "source": [
        "a = \"helloiam\"\n",
        "print(a.isalpha())"
      ],
      "metadata": {
        "colab": {
          "base_uri": "https://localhost:8080/"
        },
        "id": "NxIERbOan6SU",
        "outputId": "12e2cc75-de35-4aa2-a8a4-f61c902a76cd"
      },
      "execution_count": null,
      "outputs": [
        {
          "output_type": "stream",
          "name": "stdout",
          "text": [
            "True\n"
          ]
        }
      ]
    },
    {
      "cell_type": "code",
      "source": [
        "b = \"123456\"\n",
        "print(b.isalnum())"
      ],
      "metadata": {
        "colab": {
          "base_uri": "https://localhost:8080/"
        },
        "id": "S_PYfAVXn6PB",
        "outputId": "d71b79dc-c9d0-40b5-8a9b-621333f08c4c"
      },
      "execution_count": null,
      "outputs": [
        {
          "output_type": "stream",
          "name": "stdout",
          "text": [
            "True\n"
          ]
        }
      ]
    },
    {
      "cell_type": "code",
      "source": [
        "b = \"123456\"\n",
        "print(b.find(\"6\")) #it returns the indexing position of the given string"
      ],
      "metadata": {
        "colab": {
          "base_uri": "https://localhost:8080/"
        },
        "id": "usZgnhc6n6MK",
        "outputId": "2bf69a96-d8be-443b-dca6-4315b5ee67b3"
      },
      "execution_count": null,
      "outputs": [
        {
          "output_type": "stream",
          "name": "stdout",
          "text": [
            "5\n"
          ]
        }
      ]
    },
    {
      "cell_type": "code",
      "source": [
        "c = \"hello word\"\n",
        "print(c.find(\"o\"))"
      ],
      "metadata": {
        "colab": {
          "base_uri": "https://localhost:8080/"
        },
        "id": "ohtIM_SBn6Jn",
        "outputId": "8ac3bce5-b5fe-4118-cadb-f7b4b50b24f2"
      },
      "execution_count": null,
      "outputs": [
        {
          "output_type": "stream",
          "name": "stdout",
          "text": [
            "4\n"
          ]
        }
      ]
    },
    {
      "cell_type": "markdown",
      "source": [
        "#String Formatting methods"
      ],
      "metadata": {
        "id": "Ntwj9XmwpFuU"
      }
    },
    {
      "cell_type": "code",
      "source": [
        "#what is string formatting methods?\n",
        "#It is defined as formmating method can takes an argument and place it over a placeholder{}.\n",
        "#This can be three 3 types\n",
        "\n",
        "age = 23\n",
        "my = \"my age is\"\n",
        "print(my,age)"
      ],
      "metadata": {
        "colab": {
          "base_uri": "https://localhost:8080/"
        },
        "id": "BB1mVS6Dn6G4",
        "outputId": "0a0748d8-428d-4e73-f482-883ec91f4348"
      },
      "execution_count": null,
      "outputs": [
        {
          "output_type": "stream",
          "name": "stdout",
          "text": [
            "my age is 23\n"
          ]
        }
      ]
    },
    {
      "cell_type": "code",
      "source": [
        "#string concatination\n",
        "a = \"Hello\"\n",
        "b = \"World\"\n",
        "print(a +\" \"+b)"
      ],
      "metadata": {
        "colab": {
          "base_uri": "https://localhost:8080/"
        },
        "id": "iBrsbYgln6ET",
        "outputId": "4fe0ccf1-3a37-43bc-d990-60dc2a5a1e8e"
      },
      "execution_count": null,
      "outputs": [
        {
          "output_type": "stream",
          "name": "stdout",
          "text": [
            "Hello World\n"
          ]
        }
      ]
    },
    {
      "cell_type": "code",
      "source": [
        "#1st format method. print formatting method\n",
        "age = 10\n",
        "my_age = \"i am {} years old.\"\n",
        "print(my_age.format(10))"
      ],
      "metadata": {
        "colab": {
          "base_uri": "https://localhost:8080/"
        },
        "id": "LfFCf0m0n6Bh",
        "outputId": "63514824-cab7-4b95-ba4d-e5336122206f"
      },
      "execution_count": null,
      "outputs": [
        {
          "output_type": "stream",
          "name": "stdout",
          "text": [
            "i am 10 years old.\n"
          ]
        }
      ]
    },
    {
      "cell_type": "code",
      "source": [
        "age = 10\n",
        "my_age = \"i am {} years old.\".format(10)\n",
        "print(my_age)"
      ],
      "metadata": {
        "colab": {
          "base_uri": "https://localhost:8080/"
        },
        "id": "8TxKyqH1n5_H",
        "outputId": "f3da3ec2-a02f-4696-c304-ad4d8b9ba0cd"
      },
      "execution_count": null,
      "outputs": [
        {
          "output_type": "stream",
          "name": "stdout",
          "text": [
            "i am 10 years old.\n"
          ]
        }
      ]
    },
    {
      "cell_type": "code",
      "source": [
        "#3rd f'string format method':\n",
        "age =10\n",
        "my_age = f'i am {age} years old'\n",
        "print(my_age)"
      ],
      "metadata": {
        "colab": {
          "base_uri": "https://localhost:8080/"
        },
        "id": "xDhXQBc_p8Mj",
        "outputId": "c1b25e2d-a7e9-41dc-caea-67e7c9c0dbdd"
      },
      "execution_count": null,
      "outputs": [
        {
          "output_type": "stream",
          "name": "stdout",
          "text": [
            "i am 10 years old\n"
          ]
        }
      ]
    },
    {
      "cell_type": "code",
      "source": [
        "item_name = \"Prodct A\"\n",
        "quantity = 10\n",
        "price_each = 99.9\n",
        "Notification = \"your oreder for {} has confirmed at an price of {}, and quantity of {}, placed sucessfully!\"\n",
        "#ex-o/p--> your oreder for product A has confirmed at an price of 999.0, placed sucessfully!\n",
        "\n",
        "print(Notification.format(item_name,price_each*quantity,quantity))"
      ],
      "metadata": {
        "colab": {
          "base_uri": "https://localhost:8080/"
        },
        "id": "pABwebEOp8JE",
        "outputId": "adb1bfd5-efb5-4434-9d73-5b14c8822d42"
      },
      "execution_count": null,
      "outputs": [
        {
          "output_type": "stream",
          "name": "stdout",
          "text": [
            "your oreder for Prodct A has confirmed at an price of 999.0, and quantity of 10, placed sucessfully!\n"
          ]
        }
      ]
    },
    {
      "cell_type": "code",
      "source": [
        "item_name = \"Prodct A\"\n",
        "quantity = 10\n",
        "price_each = 99.9\n",
        "Notification = \"your oreder for {} has confirmed at an price of {}, and quantity of {}, placed sucessfully.\".format(item_name,price_each*quantity,quantity)\n",
        "print(Notification)"
      ],
      "metadata": {
        "colab": {
          "base_uri": "https://localhost:8080/"
        },
        "id": "1oUJyxU8p8GK",
        "outputId": "5b44f1ea-96ba-4d1b-a61a-62bca7336e55"
      },
      "execution_count": null,
      "outputs": [
        {
          "output_type": "stream",
          "name": "stdout",
          "text": [
            "your oreder for Prodct A has confirmed at an price of 999.0, and quantity of 10, placed sucessfully.\n"
          ]
        }
      ]
    },
    {
      "cell_type": "markdown",
      "source": [
        "# Escape Characters"
      ],
      "metadata": {
        "id": "4djbccPQqklq"
      }
    },
    {
      "cell_type": "code",
      "source": [
        "#what is escape characters?\n",
        "#if you want to print illegal character in a string we have to use escape caracters\n",
        "#---> use backward slash \"\\\" before of illegal character next at the end also use \"\\\" before illegal character"
      ],
      "metadata": {
        "id": "coOPlLB2p8DL"
      },
      "execution_count": null,
      "outputs": []
    },
    {
      "cell_type": "code",
      "source": [
        "a = \"Dwyan \\\"The Rock\\\" Johnson.\"\n",
        "print(a)\n"
      ],
      "metadata": {
        "colab": {
          "base_uri": "https://localhost:8080/"
        },
        "id": "mxDvL2u4p8AF",
        "outputId": "559a1427-7055-4052-d6e8-74a574e2951a"
      },
      "execution_count": null,
      "outputs": [
        {
          "output_type": "stream",
          "name": "stdout",
          "text": [
            "Dwyan \"The Rock\" Johnson.\n"
          ]
        }
      ]
    },
    {
      "cell_type": "markdown",
      "source": [
        "Type of errors\n"
      ],
      "metadata": {
        "id": "PXZ-5EqhPh0o"
      }
    },
    {
      "cell_type": "code",
      "source": [
        "#there are 2 types of errors\n",
        "#1.syntax error\n",
        "#2.logical error"
      ],
      "metadata": {
        "id": "ITTngz2hPmVD"
      },
      "execution_count": null,
      "outputs": []
    },
    {
      "cell_type": "code",
      "source": [
        "#what is syntax errors?\n",
        "#breaking the rules of the programming language is know as syntax error\n",
        "#print(x ** y)"
      ],
      "metadata": {
        "id": "iSkFOULZN4SX"
      },
      "execution_count": null,
      "outputs": []
    },
    {
      "cell_type": "code",
      "source": [
        "a=\"laddu\"\n",
        "print(a)"
      ],
      "metadata": {
        "colab": {
          "base_uri": "https://localhost:8080/"
        },
        "id": "OC7xi2HSa8de",
        "outputId": "e50bf061-327a-4191-b1a3-e3567d492981"
      },
      "execution_count": null,
      "outputs": [
        {
          "output_type": "stream",
          "name": "stdout",
          "text": [
            "laddu\n"
          ]
        }
      ]
    },
    {
      "cell_type": "code",
      "source": [
        "#what is logical error?\n",
        "#except syntax all the errors comes under logical error\n",
        "#ex;- Name error, recursive error, attribute eerror, indendation error."
      ],
      "metadata": {
        "id": "1k8uBeC6N5lq"
      },
      "execution_count": null,
      "outputs": []
    },
    {
      "cell_type": "code",
      "source": [
        "#Rules we need follow to create varaible?\n",
        "\"\"\"1. we can start writing varaibles with alphabets\n",
        "   2. you should not start with numericals\n",
        "   3. if u follow rule 1 and 2 you start with letter in b/w u can use numbers\n",
        "   4. we can create varaible with _\n",
        "   5. you should not give spaces in between varibles\"\"\"\n",
        "\n",
        "# 2 = \"hello world\"\n",
        "# print(2)\n",
        "# son_age= x/2\n",
        "# print(son,age)"
      ],
      "metadata": {
        "id": "h9OeXvnZOEFF"
      },
      "execution_count": null,
      "outputs": []
    },
    {
      "cell_type": "code",
      "source": [
        "#assign a multiple values to multiple varible and print in separate line?\n",
        "x,y,z = 5,10,15\n",
        "# print(x)\n",
        "# print(y)\n",
        "# print(z)\n",
        "#use sep=\"/n\"\n",
        "print(x,y,z,sep='\\n')  #\"\\n\"--->represents nextline(backward slash \"n\")"
      ],
      "metadata": {
        "id": "J5mV8LbpOMnz"
      },
      "execution_count": null,
      "outputs": []
    },
    {
      "cell_type": "code",
      "source": [
        "#assign same value to the multiple varibles and print in separate linE?\n",
        "a = b = c = 5\n",
        "print(a,b,c,sep='\\n')"
      ],
      "metadata": {
        "id": "yl_JS_omOSid"
      },
      "execution_count": null,
      "outputs": []
    },
    {
      "cell_type": "code",
      "execution_count": null,
      "metadata": {
        "colab": {
          "base_uri": "https://localhost:8080/"
        },
        "id": "Qh9NFm1JyZHl",
        "outputId": "68a67c04-a15a-48c6-8321-e398b3917fb4"
      },
      "outputs": [
        {
          "output_type": "stream",
          "name": "stdout",
          "text": [
            "3.3333333333333335\n"
          ]
        }
      ],
      "source": [
        "print(10/3)"
      ]
    },
    {
      "cell_type": "markdown",
      "source": [
        "Division"
      ],
      "metadata": {
        "id": "2qB3ZDvMyjhi"
      }
    },
    {
      "cell_type": "code",
      "source": [
        "a= 29.39547\n",
        "print(round(a))"
      ],
      "metadata": {
        "colab": {
          "base_uri": "https://localhost:8080/"
        },
        "id": "ZJuUU7n-62nf",
        "outputId": "792a4cd8-3435-44b5-efee-f0f80a8ea190"
      },
      "execution_count": null,
      "outputs": [
        {
          "output_type": "stream",
          "name": "stdout",
          "text": [
            "29\n"
          ]
        }
      ]
    },
    {
      "cell_type": "code",
      "source": [
        "print(10//3)"
      ],
      "metadata": {
        "colab": {
          "base_uri": "https://localhost:8080/"
        },
        "id": "oTw7CK-aydBy",
        "outputId": "65849ef3-0887-4436-b2df-f5c4a8952d23"
      },
      "execution_count": null,
      "outputs": [
        {
          "output_type": "stream",
          "name": "stdout",
          "text": [
            "3\n"
          ]
        }
      ]
    },
    {
      "cell_type": "markdown",
      "source": [
        "#modulus: reminder of the division is known as modulus"
      ],
      "metadata": {
        "id": "9C6OfaTQysFt"
      }
    },
    {
      "cell_type": "code",
      "source": [
        "print(10%5)"
      ],
      "metadata": {
        "colab": {
          "base_uri": "https://localhost:8080/"
        },
        "id": "6hWSpVFXyf5N",
        "outputId": "245892e3-50e9-4474-c5ad-b396b9b5bf3a"
      },
      "execution_count": null,
      "outputs": [
        {
          "output_type": "stream",
          "name": "stdout",
          "text": [
            "0\n"
          ]
        }
      ]
    },
    {
      "cell_type": "code",
      "source": [
        "print(10%4)"
      ],
      "metadata": {
        "colab": {
          "base_uri": "https://localhost:8080/"
        },
        "id": "TWsrtgY0zIYT",
        "outputId": "07fbd359-5ae1-4a79-9aef-0b814b955ac3"
      },
      "execution_count": null,
      "outputs": [
        {
          "output_type": "stream",
          "name": "stdout",
          "text": [
            "2\n"
          ]
        }
      ]
    },
    {
      "cell_type": "code",
      "source": [
        "a =10.2345\n",
        "print(round(a,1))"
      ],
      "metadata": {
        "colab": {
          "base_uri": "https://localhost:8080/"
        },
        "id": "hQNMavv9zRra",
        "outputId": "7518c2b4-d369-471f-9203-5bc55d086dcc"
      },
      "execution_count": null,
      "outputs": [
        {
          "output_type": "stream",
          "name": "stdout",
          "text": [
            "10.2\n"
          ]
        }
      ]
    },
    {
      "cell_type": "code",
      "source": [
        "for i in range(0,20):\n",
        "  if i==10:\n",
        "    break\n",
        "  print(i,end=\" \")"
      ],
      "metadata": {
        "colab": {
          "base_uri": "https://localhost:8080/"
        },
        "id": "TPgf3Tn3cxuD",
        "outputId": "923db713-5b03-4a38-d444-ca021d6a7982"
      },
      "execution_count": null,
      "outputs": [
        {
          "output_type": "stream",
          "name": "stdout",
          "text": [
            "0 1 2 3 4 5 6 7 8 9 "
          ]
        }
      ]
    },
    {
      "cell_type": "code",
      "source": [],
      "metadata": {
        "id": "97KLrtu8cxgr"
      },
      "execution_count": null,
      "outputs": []
    },
    {
      "cell_type": "markdown",
      "source": [
        "# Conditional statements()"
      ],
      "metadata": {
        "id": "V3XcNOBJtui6"
      }
    },
    {
      "cell_type": "code",
      "source": [
        "#what is comparision operators and what is relational operators?\n",
        "#Both are same\n",
        "#1. equals to --> ==\n",
        "#2. Not equals to ---> !=\n",
        "#3. greater than ---> >\n",
        "#4. less than ---> <\n",
        "#5. greater than equals to ---> >=\n",
        "#6. less than equals to --> <="
      ],
      "metadata": {
        "id": "Txv9Bmfjttic"
      },
      "execution_count": null,
      "outputs": []
    },
    {
      "cell_type": "code",
      "source": [
        "#if -->elif---> else"
      ],
      "metadata": {
        "id": "RaBCWU2SuFrr"
      },
      "execution_count": null,
      "outputs": []
    },
    {
      "cell_type": "markdown",
      "source": [
        "Logical operator()"
      ],
      "metadata": {
        "id": "hceC8jbCrZZk"
      }
    },
    {
      "cell_type": "code",
      "source": [
        "#logical operaters:- and, or, not\n",
        "print(10 == 10)\n",
        "print(10 !=10)\n",
        "print(10 > 10)\n",
        "print(10 < 10)\n",
        "print(10 >=10)\n",
        "print(10 <=10)"
      ],
      "metadata": {
        "colab": {
          "base_uri": "https://localhost:8080/"
        },
        "id": "JpSr0Us54Lzc",
        "outputId": "23728375-7415-460f-9b1b-0db67f0e20a9"
      },
      "execution_count": null,
      "outputs": [
        {
          "output_type": "stream",
          "name": "stdout",
          "text": [
            "True\n",
            "False\n",
            "False\n",
            "False\n",
            "True\n",
            "True\n"
          ]
        }
      ]
    },
    {
      "cell_type": "code",
      "source": [
        "#not:- it treverse the actual output\n",
        "print(not(10!=10))"
      ],
      "metadata": {
        "colab": {
          "base_uri": "https://localhost:8080/"
        },
        "id": "6B0UAbCa5lCn",
        "outputId": "dcae0b96-f1f2-4b59-c131-a4004e15f5ef"
      },
      "execution_count": null,
      "outputs": [
        {
          "output_type": "stream",
          "name": "stdout",
          "text": [
            "True\n"
          ]
        }
      ]
    },
    {
      "cell_type": "code",
      "source": [
        "#and:- it will executees the code when all the conditions are true (or) satisfied\n",
        "a= 10\n",
        "b= 50\n",
        "c= 455\n",
        "#if a is less then b and b is less then c then print all the conditions satisfied.\n",
        "\n",
        "if (a<b and b<c):\n",
        "  print (\"all the conditions are satisfied\")\n",
        "else:\n",
        "   print (\"all the conditions are not satisfied\")\n"
      ],
      "metadata": {
        "colab": {
          "base_uri": "https://localhost:8080/"
        },
        "id": "-35WdJ6x6CyA",
        "outputId": "d0cc2db3-0ead-4551-b49d-060d52669333"
      },
      "execution_count": null,
      "outputs": [
        {
          "output_type": "stream",
          "name": "stdout",
          "text": [
            "all the conditions are satisfied\n"
          ]
        }
      ]
    },
    {
      "cell_type": "code",
      "source": [
        "#or:- any one of the condition is true or satisfied  it will execute the code\n",
        "a= 10\n",
        "b= 50\n",
        "c= 455\n",
        "if (b>a and c>b or c<a):\n",
        "  print (\"all the conditions are satisfied\")\n",
        "else:\n",
        "   print (\"all the conditions are not satisfied\")\n"
      ],
      "metadata": {
        "colab": {
          "base_uri": "https://localhost:8080/"
        },
        "id": "WlecpNpA6jzi",
        "outputId": "c7903c29-ad80-4e87-8eaa-1a99fe9d8e78"
      },
      "execution_count": null,
      "outputs": [
        {
          "output_type": "stream",
          "name": "stdout",
          "text": [
            "all the conditions are satisfied\n"
          ]
        }
      ]
    },
    {
      "cell_type": "code",
      "source": [
        "a= 10\n",
        "b= 50\n",
        "c= 455\n",
        "if a==b and c>a and a>500 and b>200:\n",
        "  print (\"all the conditions are satisfied\")\n",
        "else:\n",
        "   print (\"all the conditions are not satisfied\")\n"
      ],
      "metadata": {
        "colab": {
          "base_uri": "https://localhost:8080/"
        },
        "id": "UkHtT7_77-a1",
        "outputId": "10f2e56e-50ae-4da5-c3d1-cb21be534777"
      },
      "execution_count": null,
      "outputs": [
        {
          "output_type": "stream",
          "name": "stdout",
          "text": [
            "all the conditions are not satisfied\n"
          ]
        }
      ]
    },
    {
      "cell_type": "code",
      "source": [
        "a= 10\n",
        "b= 50\n",
        "c= 455\n",
        "if a==b or c>a or a>500 or b>200:\n",
        "  print (\"all the conditions are satisfied\")\n",
        "else:\n",
        "   print (\"all the conditions are not satisfied\")\n"
      ],
      "metadata": {
        "colab": {
          "base_uri": "https://localhost:8080/"
        },
        "id": "lnaWtfnf8VdQ",
        "outputId": "81d847d8-e803-45e6-a0a3-4d0ea764f270"
      },
      "execution_count": null,
      "outputs": [
        {
          "output_type": "stream",
          "name": "stdout",
          "text": [
            "all the conditions are satisfied\n"
          ]
        }
      ]
    },
    {
      "cell_type": "code",
      "source": [
        "#writea program to check the given string is palindrome or not?\n",
        "#MOm\n",
        "#MADAm\n",
        "#MALaYALAM\n",
        "#WoW\n",
        "#HYDERABAD\n",
        "#KARNATAKA\n",
        "\n",
        "a = input(\"enter the string:\")\n",
        "b = a[::-1]\n",
        "if a.lower() == b.lower():\n",
        "  print(\"palindrome\")\n",
        "else:\n",
        "  print(\"not palindrome\")"
      ],
      "metadata": {
        "colab": {
          "base_uri": "https://localhost:8080/"
        },
        "id": "YEQGNr-7s05I",
        "outputId": "39406a6f-4612-488b-ce18-2a507b14dd9f"
      },
      "execution_count": null,
      "outputs": [
        {
          "output_type": "stream",
          "name": "stdout",
          "text": [
            "enter the string:hyderabad\n",
            "not palindrome\n"
          ]
        }
      ]
    },
    {
      "cell_type": "code",
      "source": [
        "#Nested conditions:- Writing a condition in side the another condition is known as nested conditions.\n",
        "a=int(input())\n",
        "if a > 10:\n",
        "  print(\"a is greater than 10\")\n",
        "  if a > 20:\n",
        "    print (\"a is greater than 20\")\n",
        "    if a> 30:\n",
        "      print(\"a is greater tban 30\")\n",
        "      if a> 40:\n",
        "        print (\"a is greater than 40\")\n",
        "      else:\n",
        "          print(\"a is less then 40\")\n",
        "    else:\n",
        "        print(\"a is less than 30\")\n",
        "  else:\n",
        "    print (\"a is less than 20\")\n",
        "else:\n",
        "    print(\"a is less than 10\")\n"
      ],
      "metadata": {
        "colab": {
          "base_uri": "https://localhost:8080/"
        },
        "id": "B2wiI6cS8mGq",
        "outputId": "7d038c7f-1c6b-486c-e3b4-dff36804a753"
      },
      "execution_count": null,
      "outputs": [
        {
          "output_type": "stream",
          "name": "stdout",
          "text": [
            "30\n",
            "a is greater than 10\n",
            "a is greater than 20\n",
            "a is less than 30\n"
          ]
        }
      ]
    },
    {
      "cell_type": "code",
      "source": [
        "a = int (input())\n",
        "if a>=90:\n",
        "  print(\"a is greater thean 90\")\n",
        "else:\n",
        "  print(\"a is less than 90\")"
      ],
      "metadata": {
        "colab": {
          "base_uri": "https://localhost:8080/"
        },
        "id": "hPGxXItWBcFO",
        "outputId": "91b82b33-30e0-4e27-9c5c-a80caba8704a"
      },
      "execution_count": null,
      "outputs": [
        {
          "output_type": "stream",
          "name": "stdout",
          "text": [
            "80\n",
            "a is less than 90\n"
          ]
        }
      ]
    },
    {
      "cell_type": "code",
      "source": [
        "marks = int(input(\"entr the marks\"))\n",
        "passing_marks = 40\n",
        "# here is an giving the grades\n",
        "# 40- 60 -->D\n",
        "#60- 70 -->c\n",
        "\n",
        "if (marks >= 40 and marks <=60):\n",
        "  print(\"D\")\n",
        "elif(marks >60 and marks <=79):\n",
        "  print(\"C\")\n",
        "elif marks >=80 and marks <=89 :\n",
        "  print(\"B\")\n",
        "elif marks > 90:\n",
        "  print(\"A\")\n",
        "else:\n",
        "  print(\"false\")\n"
      ],
      "metadata": {
        "colab": {
          "base_uri": "https://localhost:8080/"
        },
        "id": "ssKt0TLOCUPY",
        "outputId": "aa9e1e5d-b2f1-4bfe-9a6d-75d90440234e"
      },
      "execution_count": null,
      "outputs": [
        {
          "output_type": "stream",
          "name": "stdout",
          "text": [
            "entr the marks80\n",
            "B\n"
          ]
        }
      ]
    },
    {
      "cell_type": "code",
      "source": [
        "\"\"\"pass:- is nothing but a null place holder when you execute the code by using the \"pass\" keyword nothing will happens\"\"\"\n",
        "\n",
        "marks = 55\n",
        "passing = 40\n",
        "if marks >= passing:\n",
        "  pass"
      ],
      "metadata": {
        "id": "y8LIyjpLEQV6"
      },
      "execution_count": null,
      "outputs": []
    },
    {
      "cell_type": "markdown",
      "source": [
        "#Loops concepts\n"
      ],
      "metadata": {
        "id": "LdjXEd2P7K8x"
      }
    },
    {
      "cell_type": "markdown",
      "source": [],
      "metadata": {
        "id": "igWGX4pf-0Uc"
      }
    },
    {
      "cell_type": "code",
      "source": [
        "#why we use loops?\n",
        "#we use the loops to avoid the duplicate codes\n",
        "    #loops are used to itreate and check the conditions over collections.\n",
        "\n",
        "    #how many types of code are there?\n",
        "     #there are 2 types\n",
        "     # 1:-DRY Code --> D: dont, R: repeat, Y: yourself\n",
        "\n",
        "     # 2:-WET Code:--> W: write, E: everything T: Twice\n"
      ],
      "metadata": {
        "id": "fL-hzbBN-2kM"
      },
      "execution_count": null,
      "outputs": []
    },
    {
      "cell_type": "code",
      "source": [
        "#while loop :\n",
        "#what is while loop?\n",
        "#it runs a set of instructions as long as condition remains true.\n",
        "\n",
        "target = 8\n",
        "inital_count= 0\n",
        "while inital_count < target:\n",
        "  inital_count = inital_count+1\n",
        "  print(\"go up\")\n",
        "  print (\"go down\")\n",
        "  print(inital_count)\n",
        "\n"
      ],
      "metadata": {
        "colab": {
          "base_uri": "https://localhost:8080/"
        },
        "id": "jGmdX37rB3Ig",
        "outputId": "d6a2b8fa-0569-46de-d712-b2e0a413e562"
      },
      "execution_count": null,
      "outputs": [
        {
          "output_type": "stream",
          "name": "stdout",
          "text": [
            "go up\n",
            "go down\n",
            "1\n",
            "go up\n",
            "go down\n",
            "2\n",
            "go up\n",
            "go down\n",
            "3\n",
            "go up\n",
            "go down\n",
            "4\n",
            "go up\n",
            "go down\n",
            "5\n",
            "go up\n",
            "go down\n",
            "6\n",
            "go up\n",
            "go down\n",
            "7\n",
            "go up\n",
            "go down\n",
            "8\n"
          ]
        }
      ]
    },
    {
      "cell_type": "code",
      "source": [
        "#write a program to print first 10 numbers by using while loop\n",
        "target = 0\n",
        "while target<= 10:\n",
        "  target = target+1\n",
        "  print(target)\n",
        "  target = target+1\n",
        "\n",
        "  #Note:- when you use \"condition [i=i+1] after the print function the output can be exact range of numbar\n",
        "  '''if you are using condition [i= i+1] before print statement the output can be increased by 1 with respect to the range of numbers'''"
      ],
      "metadata": {
        "colab": {
          "base_uri": "https://localhost:8080/"
        },
        "id": "UgBUPO0CCdX5",
        "outputId": "0c4ee5fe-54d6-4fb6-88cb-b97502639138"
      },
      "execution_count": null,
      "outputs": [
        {
          "output_type": "stream",
          "name": "stdout",
          "text": [
            "1\n",
            "3\n",
            "5\n",
            "7\n",
            "9\n",
            "11\n"
          ]
        }
      ]
    },
    {
      "cell_type": "code",
      "source": [
        "#write a program to run a lift if the use press button 4 then the lift has to stop.\n",
        "target = int(input())\n",
        "G= 0\n",
        "while G <= target:\n",
        "  print(f\"lift has reached {G} floor\")\n",
        "  print(\"-----\")\n",
        "  G= G+1"
      ],
      "metadata": {
        "colab": {
          "base_uri": "https://localhost:8080/"
        },
        "id": "RWhzVPQ_KG3-",
        "outputId": "8505024f-5e39-457a-af2f-11cdf430bbcd"
      },
      "execution_count": null,
      "outputs": [
        {
          "output_type": "stream",
          "name": "stdout",
          "text": [
            "4\n",
            "lift has reached 0 floor\n",
            "-----\n",
            "lift has reached 1 floor\n",
            "-----\n",
            "lift has reached 2 floor\n",
            "-----\n",
            "lift has reached 3 floor\n",
            "-----\n",
            "lift has reached 4 floor\n",
            "-----\n"
          ]
        }
      ]
    },
    {
      "cell_type": "code",
      "source": [
        "#write a program to print 10 digits using while loop\n",
        "a = int(input(\"enter the number:\"))\n",
        "b = 0\n",
        "while b<a:\n",
        "  b = b+1\n",
        "  print(b)"
      ],
      "metadata": {
        "colab": {
          "base_uri": "https://localhost:8080/"
        },
        "id": "kNHETdtlvEGY",
        "outputId": "51ea1b1d-6f39-4220-9b16-4438c7119155"
      },
      "execution_count": null,
      "outputs": [
        {
          "output_type": "stream",
          "name": "stdout",
          "text": [
            "enter the number10\n",
            "1\n",
            "2\n",
            "3\n",
            "4\n",
            "5\n",
            "6\n",
            "7\n",
            "8\n",
            "9\n",
            "10\n"
          ]
        }
      ]
    },
    {
      "cell_type": "code",
      "source": [
        "a = int(input(\"enter the number:\"))\n",
        "b = 1\n",
        "while b<=a:\n",
        "  print(b)\n",
        "  b = b+2\n",
        "  #print(b)"
      ],
      "metadata": {
        "colab": {
          "base_uri": "https://localhost:8080/"
        },
        "id": "2HxT-LBowEL1",
        "outputId": "87dba506-f7fe-4042-d792-10e4139990b9"
      },
      "execution_count": null,
      "outputs": [
        {
          "output_type": "stream",
          "name": "stdout",
          "text": [
            "enter the number:10\n",
            "1\n",
            "3\n",
            "5\n",
            "7\n",
            "9\n"
          ]
        }
      ]
    },
    {
      "cell_type": "code",
      "source": [
        "a = int(input(\"enter the number:\"))\n",
        "b = 10\n",
        "while b<=a:\n",
        "  print(b)\n",
        "  b = b*"
      ],
      "metadata": {
        "id": "Qolzq_Jkwzuf"
      },
      "execution_count": null,
      "outputs": []
    },
    {
      "cell_type": "markdown",
      "source": [
        "# For loop()"
      ],
      "metadata": {
        "id": "UG2bpWjuxYS2"
      }
    },
    {
      "cell_type": "code",
      "source": [
        "# for loop():- it runs a set of instructions for each and every element in a collection.\n",
        "number = [10,20,30,40,50]\n",
        "for i in number:\n",
        "  print(i*2)\n"
      ],
      "metadata": {
        "colab": {
          "base_uri": "https://localhost:8080/"
        },
        "id": "V-7F1fRu73By",
        "outputId": "451f7531-c65f-4cbb-a44c-3d4056b46462"
      },
      "execution_count": null,
      "outputs": [
        {
          "output_type": "stream",
          "name": "stdout",
          "text": [
            "20\n",
            "40\n",
            "60\n",
            "80\n",
            "100\n"
          ]
        }
      ]
    },
    {
      "cell_type": "code",
      "source": [
        "#print hello world in seperate line by unsing lops?\n",
        "str = \"Hello world\"\n",
        "for i in str:\n",
        "  print(i)"
      ],
      "metadata": {
        "colab": {
          "base_uri": "https://localhost:8080/"
        },
        "id": "eaYLvRqlyo2i",
        "outputId": "a2a246fc-9cb4-43c8-f40a-a7631ac792d7"
      },
      "execution_count": null,
      "outputs": [
        {
          "output_type": "stream",
          "name": "stdout",
          "text": [
            "H\n",
            "e\n",
            "l\n",
            "l\n",
            "o\n",
            " \n",
            "w\n",
            "o\n",
            "r\n",
            "l\n",
            "d\n"
          ]
        }
      ]
    },
    {
      "cell_type": "code",
      "source": [
        "#write a program to print \"hello world\" upto length of string if length is 11 print 11 times if length is 15 print 15 times?\n",
        "str = \"balu\"\n",
        "print (len(str))\n",
        "for i in str:\n",
        "  print(str)"
      ],
      "metadata": {
        "colab": {
          "base_uri": "https://localhost:8080/"
        },
        "id": "kuQlmIY2zRQd",
        "outputId": "3a251dd0-c0b7-4859-e2bd-79cf67b2fb72"
      },
      "execution_count": null,
      "outputs": [
        {
          "output_type": "stream",
          "name": "stdout",
          "text": [
            "4\n",
            "balu\n",
            "balu\n",
            "balu\n",
            "balu\n"
          ]
        }
      ]
    },
    {
      "cell_type": "code",
      "source": [
        "#Break Statement:- It terminates (or) it breaks the rule once the condition is satisfied.\n",
        "numbers = [10,20,30,40,50]\n",
        "for i in numbers:\n",
        "  if i == 30:\n",
        "    break\n",
        "  print(i)"
      ],
      "metadata": {
        "colab": {
          "base_uri": "https://localhost:8080/"
        },
        "id": "KLi_A9vG2Yyg",
        "outputId": "3711927a-cf2a-4492-8395-f5b06890512c"
      },
      "execution_count": null,
      "outputs": [
        {
          "output_type": "stream",
          "name": "stdout",
          "text": [
            "10\n",
            "20\n"
          ]
        }
      ]
    },
    {
      "cell_type": "code",
      "source": [
        "# if i use the print() before break why i am getting considered conditi0on value?\n",
        "\"\"\" python is an interpreted language means it will executes the code line by line when i have written print()\n",
        "before break. before ececuting condition the iteration reaches to specificcondition vlue so we can that specific\n",
        "value along with thw iterated values in the out put\"\"\""
      ],
      "metadata": {
        "id": "oOGBlIfl2vvU"
      },
      "execution_count": null,
      "outputs": []
    },
    {
      "cell_type": "code",
      "source": [
        "#Break Statement:- It terminates (or) it breaks the rule once the condition is satisfied.\n",
        "a = int(input())\n",
        "for i in range(a):\n",
        "  if i == 8:\n",
        "    break\n",
        "  print(i)"
      ],
      "metadata": {
        "colab": {
          "base_uri": "https://localhost:8080/"
        },
        "id": "uPQLCEohzYrn",
        "outputId": "d6ef3352-2e8f-4320-9871-27f018fdda01"
      },
      "execution_count": null,
      "outputs": [
        {
          "output_type": "stream",
          "name": "stdout",
          "text": [
            "10\n",
            "0\n",
            "1\n",
            "2\n",
            "3\n",
            "4\n",
            "5\n",
            "6\n",
            "7\n"
          ]
        }
      ]
    },
    {
      "cell_type": "code",
      "source": [
        "#continue :- It skips the particular iteration when the condition is satisfied.'\n",
        "a = [10,20,30,40,50,60,70,80,90]\n",
        "for x in a:\n",
        "  if x == 40:\n",
        "    continue\n",
        "  print(x)\n"
      ],
      "metadata": {
        "colab": {
          "base_uri": "https://localhost:8080/"
        },
        "id": "936UGcty36QG",
        "outputId": "1af9f2b8-0e2c-4605-fe0d-3dc81f5a127e"
      },
      "execution_count": null,
      "outputs": [
        {
          "output_type": "stream",
          "name": "stdout",
          "text": [
            "10\n",
            "20\n",
            "30\n",
            "50\n",
            "60\n",
            "70\n",
            "80\n",
            "90\n"
          ]
        }
      ]
    },
    {
      "cell_type": "code",
      "source": [
        "# can we do multiple continue\n",
        "a = [10,20,30,40,50,60,70,80,90]\n",
        "for x in a:\n",
        "  if x in (30,40,70):\n",
        "    continue\n",
        "  print(x)\n"
      ],
      "metadata": {
        "id": "z-5RNpFENFbE",
        "colab": {
          "base_uri": "https://localhost:8080/"
        },
        "outputId": "6121f70b-7c3c-47a6-fa75-92e4bacf803c"
      },
      "execution_count": null,
      "outputs": [
        {
          "output_type": "stream",
          "name": "stdout",
          "text": [
            "10\n",
            "20\n",
            "50\n",
            "60\n",
            "80\n",
            "90\n"
          ]
        }
      ]
    },
    {
      "cell_type": "markdown",
      "source": [
        "# Range"
      ],
      "metadata": {
        "id": "DoT-bY0B5sSe"
      }
    },
    {
      "cell_type": "code",
      "source": [
        "#write a program to create a\n",
        "a= 10\n",
        "for i in range(10):\n",
        "  print(i)"
      ],
      "metadata": {
        "colab": {
          "base_uri": "https://localhost:8080/"
        },
        "id": "niKOCv9v-l5c",
        "outputId": "bda19423-b5cf-4b8f-b953-11e7d794c758"
      },
      "execution_count": null,
      "outputs": [
        {
          "output_type": "stream",
          "name": "stdout",
          "text": [
            "0\n",
            "1\n",
            "2\n",
            "3\n",
            "4\n",
            "5\n",
            "6\n",
            "7\n",
            "8\n",
            "9\n"
          ]
        }
      ]
    },
    {
      "cell_type": "code",
      "source": [
        "#range(start,end):\n",
        "#write a program to print range of values from 10 to 40?\n",
        "a = int(input())\n",
        "for i in range(10,a+1):\n",
        "  print(i)"
      ],
      "metadata": {
        "colab": {
          "base_uri": "https://localhost:8080/"
        },
        "id": "P_1-u2hH7DE_",
        "outputId": "e1651629-a3f7-4156-9d25-e25fa9a1344c"
      },
      "execution_count": null,
      "outputs": [
        {
          "output_type": "stream",
          "name": "stdout",
          "text": [
            "20\n",
            "10\n",
            "11\n",
            "12\n",
            "13\n",
            "14\n",
            "15\n",
            "16\n",
            "17\n",
            "18\n",
            "19\n",
            "20\n"
          ]
        }
      ]
    },
    {
      "cell_type": "code",
      "source": [
        "#write a program to print even numbers fromm 1 to 20?\n",
        "\n",
        "a = int(input())\n",
        "for i in range(2,a+1,2):\n",
        "  print(i)\n"
      ],
      "metadata": {
        "colab": {
          "base_uri": "https://localhost:8080/"
        },
        "id": "KlMiYpNABz9X",
        "outputId": "1c49b31a-b09b-484e-b180-d9900ec62530"
      },
      "execution_count": null,
      "outputs": [
        {
          "output_type": "stream",
          "name": "stdout",
          "text": [
            "20\n",
            "2\n",
            "4\n",
            "6\n",
            "8\n",
            "10\n",
            "12\n",
            "14\n",
            "16\n",
            "18\n",
            "20\n"
          ]
        }
      ]
    },
    {
      "cell_type": "markdown",
      "source": [
        "# Collections"
      ],
      "metadata": {
        "id": "oWoCgZnfvzJU"
      }
    },
    {
      "cell_type": "code",
      "source": [
        "#4 types of collection in python\n",
        "# 1. tuple\n",
        "# 2. list\n",
        "# 3. set\n",
        "# 4. dictionary"
      ],
      "metadata": {
        "id": "5bFcwWMeTWhR"
      },
      "execution_count": null,
      "outputs": []
    },
    {
      "cell_type": "markdown",
      "source": [
        "# list ()"
      ],
      "metadata": {
        "id": "piZYH1jitAcp"
      }
    },
    {
      "cell_type": "code",
      "source": [
        "#1.List:- --> List are used to store multiple values in a single variable.\n",
        "#list can be created by using square brackets [].\n",
        "# List  is ordered\n",
        "# changable(mutable),\n",
        "# It allows duplicates\n",
        "\n",
        "list1 = [\"apple\", 3,\"banana\", 2 ,\"cherry\", 3]\n",
        "print(list1)"
      ],
      "metadata": {
        "colab": {
          "base_uri": "https://localhost:8080/"
        },
        "id": "zwcLX4sMv4hc",
        "outputId": "59424650-4759-4efe-9da0-a39a4aad9cdb"
      },
      "execution_count": null,
      "outputs": [
        {
          "output_type": "stream",
          "name": "stdout",
          "text": [
            "['apple', 3, 'banana', 2, 'cherry', 3]\n"
          ]
        }
      ]
    },
    {
      "cell_type": "code",
      "source": [
        "#it allows duplicates\n",
        "list2 = [\"Apple\",\"Banana\",\"cherries\",\"kiwi\",\"watermelon\",\"lemon\",\"ornage\",\"ornage\",\"Apple\"]\n",
        "print(list2)\n",
        "print(type(list2))"
      ],
      "metadata": {
        "colab": {
          "base_uri": "https://localhost:8080/"
        },
        "id": "587VB-38w87F",
        "outputId": "0032d886-52ab-43e4-fc56-4cdf0e08b20c"
      },
      "execution_count": null,
      "outputs": [
        {
          "output_type": "stream",
          "name": "stdout",
          "text": [
            "['Apple', 'Banana', 'cherries', 'kiwi', 'watermelon', 'lemon', 'ornage', 'ornage', 'Apple']\n",
            "<class 'list'>\n"
          ]
        }
      ]
    },
    {
      "cell_type": "code",
      "source": [
        "#list is ordered.\n",
        "\"\"\"ordered :- the elements or values in the list is havinga aspecific index position number.\n",
        "Based on this postion number we are accessing the data.\"\"\""
      ],
      "metadata": {
        "id": "xwPaJg-zxQoS"
      },
      "execution_count": null,
      "outputs": []
    },
    {
      "cell_type": "code",
      "source": [
        "l2 = [\"Apple\",\"Banana\",\"cherries\",\"kiwi\",\"watermelon\",\"lemon\",\"ornage\"]\n",
        "#what is the length of this list?\n",
        "print(len(l2))"
      ],
      "metadata": {
        "colab": {
          "base_uri": "https://localhost:8080/"
        },
        "id": "RnyW4_K9x6X4",
        "outputId": "4675bbdf-7442-444d-f2df-545a3c4aa820"
      },
      "execution_count": null,
      "outputs": [
        {
          "output_type": "stream",
          "name": "stdout",
          "text": [
            "7\n"
          ]
        }
      ]
    },
    {
      "cell_type": "code",
      "source": [
        "#print or access apple from above list?\n",
        "print(l2[0])\n",
        "#print or access watermelon from above list?\n",
        "print(l2[4])\n"
      ],
      "metadata": {
        "colab": {
          "base_uri": "https://localhost:8080/"
        },
        "id": "a513xsl9x86b",
        "outputId": "e66ffb15-76e1-4f42-8135-5c9dbac1eed9"
      },
      "execution_count": null,
      "outputs": [
        {
          "output_type": "stream",
          "name": "stdout",
          "text": [
            "Apple\n",
            "watermelon\n"
          ]
        }
      ]
    },
    {
      "cell_type": "code",
      "source": [
        "#print the range of items \"cherries\",\"kiwi\",\"watermelon\",\"lemon\"?\n",
        "#[start:end]\n",
        "print(l2[2:6])"
      ],
      "metadata": {
        "colab": {
          "base_uri": "https://localhost:8080/"
        },
        "id": "SCQew9KgyHW6",
        "outputId": "e225b717-9225-415a-d85c-0cc16133c38c"
      },
      "execution_count": null,
      "outputs": [
        {
          "output_type": "stream",
          "name": "stdout",
          "text": [
            "['cherries', 'kiwi', 'watermelon', 'lemon']\n"
          ]
        }
      ]
    },
    {
      "cell_type": "code",
      "source": [
        "from ctypes import sizeof\n",
        "#Use the negative index and print the range of items?\n",
        "l2 = [\"Apple\",\"Banana\",\"cherries\",\"kiwi\",\"watermelon\",\"lemon\",\"ornage\"]\n",
        "print(l2[-3])"
      ],
      "metadata": {
        "colab": {
          "base_uri": "https://localhost:8080/"
        },
        "id": "L3V5QJQ9y85X",
        "outputId": "731d2b7a-ae4d-4ae1-c423-31c1be435315"
      },
      "execution_count": null,
      "outputs": [
        {
          "output_type": "stream",
          "name": "stdout",
          "text": [
            "watermelon\n"
          ]
        }
      ]
    },
    {
      "cell_type": "code",
      "source": [
        "print(dir(list))"
      ],
      "metadata": {
        "colab": {
          "base_uri": "https://localhost:8080/"
        },
        "id": "TEL2s3imZF6C",
        "outputId": "908b1986-79c7-4cea-9db8-839e3fb4c23f"
      },
      "execution_count": null,
      "outputs": [
        {
          "output_type": "stream",
          "name": "stdout",
          "text": [
            "['__add__', '__class__', '__class_getitem__', '__contains__', '__delattr__', '__delitem__', '__dir__', '__doc__', '__eq__', '__format__', '__ge__', '__getattribute__', '__getitem__', '__gt__', '__hash__', '__iadd__', '__imul__', '__init__', '__init_subclass__', '__iter__', '__le__', '__len__', '__lt__', '__mul__', '__ne__', '__new__', '__reduce__', '__reduce_ex__', '__repr__', '__reversed__', '__rmul__', '__setattr__', '__setitem__', '__sizeof__', '__str__', '__subclasshook__', 'append', 'clear', 'copy', 'count', 'extend', 'index', 'insert', 'pop', 'remove', 'reverse', 'sort']\n"
          ]
        }
      ]
    },
    {
      "cell_type": "code",
      "source": [
        "#watermelon\",\"kiwi\",\"cherries\"\n",
        "print(l2[-3:-6:-2])"
      ],
      "metadata": {
        "colab": {
          "base_uri": "https://localhost:8080/"
        },
        "id": "Iz8OP9lrzAm5",
        "outputId": "573d2e80-4bd4-4aab-f041-794906c6f5f4"
      },
      "execution_count": null,
      "outputs": [
        {
          "output_type": "stream",
          "name": "stdout",
          "text": [
            "['watermelon', 'cherries']\n"
          ]
        }
      ]
    },
    {
      "cell_type": "code",
      "source": [
        "#print the list of even position elements?\n",
        "print(l2[::2])"
      ],
      "metadata": {
        "colab": {
          "base_uri": "https://localhost:8080/"
        },
        "id": "XU3t2YbOzMfV",
        "outputId": "c8f057f8-bae0-44a3-94a8-4fd5c3fa07e3"
      },
      "execution_count": null,
      "outputs": [
        {
          "output_type": "stream",
          "name": "stdout",
          "text": [
            "['Apple', 'cherries', 'watermelon', 'ornage']\n"
          ]
        }
      ]
    },
    {
      "cell_type": "code",
      "source": [
        "#reverse the entire list?\n",
        "print(l2[::-1])"
      ],
      "metadata": {
        "colab": {
          "base_uri": "https://localhost:8080/"
        },
        "id": "_KC7gMqTzehi",
        "outputId": "e9dbf440-10e2-4f7b-af38-3ad90061c951"
      },
      "execution_count": null,
      "outputs": [
        {
          "output_type": "stream",
          "name": "stdout",
          "text": [
            "['ornage', 'lemon', 'watermelon', 'kiwi', 'cherries', 'Banana', 'Apple']\n"
          ]
        }
      ]
    },
    {
      "cell_type": "code",
      "source": [
        "#can we convert a list in to string.\n",
        "#write a program to convert the list into string.\n",
        "l3= ['Apple', 'cherries', 'watermelon', 'ornage']\n",
        "#using loops\n",
        "for x in l3:\n",
        "  print(x, end= \" \")  #end:- when you donot need output in each line then you use \"end=\"\"\n",
        "  #print(type(x))\n"
      ],
      "metadata": {
        "colab": {
          "base_uri": "https://localhost:8080/"
        },
        "id": "gp7DIVoZzvfj",
        "outputId": "ccd2c4d4-2bb6-4000-aa28-e49c3f8fd353"
      },
      "execution_count": null,
      "outputs": [
        {
          "output_type": "stream",
          "name": "stdout",
          "text": [
            "Apple cherries watermelon ornage "
          ]
        }
      ]
    },
    {
      "cell_type": "code",
      "source": [
        "l3= ['Apple', 'cherries', 'watermelon', 'ornage']\n",
        "a =0\n",
        "while a < len(l3):\n",
        "  a= a+1\n",
        "  print(a, end= \" \")"
      ],
      "metadata": {
        "colab": {
          "base_uri": "https://localhost:8080/"
        },
        "id": "flAmtbbJtOxF",
        "outputId": "1d860f48-8637-468c-a0be-c7f9dfd29b01"
      },
      "execution_count": null,
      "outputs": [
        {
          "output_type": "stream",
          "name": "stdout",
          "text": [
            "1 2 3 4 "
          ]
        }
      ]
    },
    {
      "cell_type": "code",
      "source": [
        "#list mutable or changable:-\n",
        "#How can you define a collection is mutable?\n",
        "#it can be defined in three ways\n",
        "#change-->replace--> A-->B\n",
        "#ADD the items in to the list\n",
        "# deleting the items in the list"
      ],
      "metadata": {
        "id": "NzMEJqQsz9xW"
      },
      "execution_count": null,
      "outputs": []
    },
    {
      "cell_type": "code",
      "source": [
        "#change-->replace--> items in list -->replacing in list can be done with the help of index position numbers.\n",
        "l4 = ['ornage', 'lemon', 'watermelon', 'kiwi', 'cherries', 'Banana', 'Apple']\n",
        "l4[3] = \"starwberry\"\n",
        "print(l4)"
      ],
      "metadata": {
        "colab": {
          "base_uri": "https://localhost:8080/"
        },
        "id": "TOaVeST80dkg",
        "outputId": "94070977-d200-4798-f25e-ad59af2e3a86"
      },
      "execution_count": null,
      "outputs": [
        {
          "output_type": "stream",
          "name": "stdout",
          "text": [
            "['ornage', 'lemon', 'watermelon', 'starwberry', 'cherries', 'Banana', 'Apple']\n"
          ]
        }
      ]
    },
    {
      "cell_type": "code",
      "source": [
        "#if i want to replace the range of items in the list\n",
        "l4[0:3] = \"mango\",\"pineapple\",\"grapes\"\n",
        "print(l4)"
      ],
      "metadata": {
        "colab": {
          "base_uri": "https://localhost:8080/",
          "height": 176
        },
        "id": "WrCL6z-h0hgw",
        "outputId": "28d1a240-392e-40da-ebbe-3c2bd2323477"
      },
      "execution_count": null,
      "outputs": [
        {
          "output_type": "error",
          "ename": "NameError",
          "evalue": "name 'l4' is not defined",
          "traceback": [
            "\u001b[0;31m---------------------------------------------------------------------------\u001b[0m",
            "\u001b[0;31mNameError\u001b[0m                                 Traceback (most recent call last)",
            "\u001b[0;32m<ipython-input-8-81eaa1c97507>\u001b[0m in \u001b[0;36m<cell line: 2>\u001b[0;34m()\u001b[0m\n\u001b[1;32m      1\u001b[0m \u001b[0;31m#if i want to replace the range of items in the list\u001b[0m\u001b[0;34m\u001b[0m\u001b[0;34m\u001b[0m\u001b[0m\n\u001b[0;32m----> 2\u001b[0;31m \u001b[0ml4\u001b[0m\u001b[0;34m[\u001b[0m\u001b[0;36m0\u001b[0m\u001b[0;34m:\u001b[0m\u001b[0;36m3\u001b[0m\u001b[0;34m]\u001b[0m \u001b[0;34m=\u001b[0m \u001b[0;34m[\u001b[0m\u001b[0;34m\"mango\"\u001b[0m\u001b[0;34m,\u001b[0m\u001b[0;34m\"pineapple\"\u001b[0m\u001b[0;34m,\u001b[0m\u001b[0;34m\"grapes\"\u001b[0m\u001b[0;34m]\u001b[0m\u001b[0;34m\u001b[0m\u001b[0;34m\u001b[0m\u001b[0m\n\u001b[0m\u001b[1;32m      3\u001b[0m \u001b[0mprint\u001b[0m\u001b[0;34m(\u001b[0m\u001b[0ml4\u001b[0m\u001b[0;34m)\u001b[0m\u001b[0;34m\u001b[0m\u001b[0;34m\u001b[0m\u001b[0m\n",
            "\u001b[0;31mNameError\u001b[0m: name 'l4' is not defined"
          ]
        }
      ]
    },
    {
      "cell_type": "code",
      "source": [
        "l4[0:4] = \"cashew\", \"dry grapes\"   #it is accepetable inlist your replace index postion with items irrespective of number of position\n",
        "print(l4)"
      ],
      "metadata": {
        "colab": {
          "base_uri": "https://localhost:8080/"
        },
        "id": "QbkglZnZ1J55",
        "outputId": "f038f871-55de-4914-9303-d429cd816b73"
      },
      "execution_count": null,
      "outputs": [
        {
          "output_type": "stream",
          "name": "stdout",
          "text": [
            "['cashew', 'dry grapes', 'cherries', 'Banana', 'Apple']\n"
          ]
        }
      ]
    },
    {
      "cell_type": "code",
      "source": [
        "#ADD the items in to the list\n",
        "#appen() by default it will add the items in the list in end position\n",
        "l5= ['Apple', 'cherries', 'watermelon', 'ornage']\n",
        "l5.append(\"muskmelon\")\n",
        "print(l5)"
      ],
      "metadata": {
        "colab": {
          "base_uri": "https://localhost:8080/"
        },
        "id": "78dYw5Hc1WaS",
        "outputId": "871f6f06-b146-44d7-a493-b3f73ad80f23"
      },
      "execution_count": null,
      "outputs": [
        {
          "output_type": "stream",
          "name": "stdout",
          "text": [
            "['Apple', 'cherries', 'watermelon', 'ornage', 'muskmelon']\n"
          ]
        }
      ]
    },
    {
      "cell_type": "code",
      "source": [
        "#if i want to add the element in particular index position.\n",
        "#insert(index,'new item name')\n",
        "l5.insert(3,'lemon') #note you cannot insert multiple values into the list\n",
        "print(l5)"
      ],
      "metadata": {
        "colab": {
          "base_uri": "https://localhost:8080/"
        },
        "id": "5iVPxFCG1Y7R",
        "outputId": "8cc64418-b592-4a61-8612-7a4570e2f615"
      },
      "execution_count": null,
      "outputs": [
        {
          "output_type": "stream",
          "name": "stdout",
          "text": [
            "['Apple', 'cherries', 'watermelon', 'lemon', 'ornage', 'muskmelon']\n"
          ]
        }
      ]
    },
    {
      "cell_type": "code",
      "source": [
        "l1= [10,20,30,40]\n",
        "l2 = ['Apple', 'cherries', 'watermelon', 'ornage']\n",
        "#here we can give the 1st collection name the other collection elements is going to add in 1at collection\n",
        "l1.extend(l2)\n",
        "print(l1)\n",
        "print(len(l1))"
      ],
      "metadata": {
        "id": "VyhHV7Sj1cRf",
        "colab": {
          "base_uri": "https://localhost:8080/"
        },
        "outputId": "d48ddd87-6c71-4f36-acbc-467298dc5a9e"
      },
      "execution_count": null,
      "outputs": [
        {
          "output_type": "stream",
          "name": "stdout",
          "text": [
            "[10, 20, 30, 40, 'Apple', 'cherries', 'watermelon', 'ornage']\n",
            "8\n"
          ]
        }
      ]
    },
    {
      "cell_type": "code",
      "source": [
        "#from above o/p how can we acces the elements\n",
        "print(l2[4])"
      ],
      "metadata": {
        "colab": {
          "base_uri": "https://localhost:8080/"
        },
        "id": "dvtl1nwoScfX",
        "outputId": "e9fc882e-cf7d-40a1-af71-b8960eb85289"
      },
      "execution_count": null,
      "outputs": [
        {
          "output_type": "stream",
          "name": "stdout",
          "text": [
            "10\n"
          ]
        }
      ]
    },
    {
      "cell_type": "code",
      "source": [
        "# write a program to add the elelments to l3 at 2nd index position?\n",
        "l3= [\"apple\", \"cherries\",\"lemon\",\"lemon\"]\n",
        "l4 = [10,20]\n",
        "l3.insert(2,l4)\n",
        "print(l3)"
      ],
      "metadata": {
        "colab": {
          "base_uri": "https://localhost:8080/"
        },
        "id": "WAM5xj9lTIW1",
        "outputId": "bcbb4a13-4fe3-4e7b-e4c4-75982c7b54ff"
      },
      "execution_count": null,
      "outputs": [
        {
          "output_type": "stream",
          "name": "stdout",
          "text": [
            "['apple', 'cherries', [10, 20], 'lemon', 'lemon']\n"
          ]
        }
      ]
    },
    {
      "cell_type": "markdown",
      "source": [
        "Delete or remove"
      ],
      "metadata": {
        "id": "p0sebsFVVrwS"
      }
    },
    {
      "cell_type": "code",
      "source": [
        "# Delete\n",
        "l5 =['apple', 'cherries', [10, 20], 'lemon', 'lemon']\n",
        "l5.remove(\"cherries\")\n",
        "print(l5)"
      ],
      "metadata": {
        "colab": {
          "base_uri": "https://localhost:8080/"
        },
        "id": "LDLsx8oLVHTa",
        "outputId": "ff9c6615-6ba9-48d7-8d2f-7689383c617b"
      },
      "execution_count": null,
      "outputs": [
        {
          "output_type": "stream",
          "name": "stdout",
          "text": [
            "['apple', [10, 20], 'lemon', 'lemon']\n"
          ]
        }
      ]
    },
    {
      "cell_type": "code",
      "source": [
        "l5 =['apple', 'cherries', [10, 20], 'lemon', 'lemon']\n",
        "l5.remove(\"lemon\")\n",
        "print(l5)"
      ],
      "metadata": {
        "colab": {
          "base_uri": "https://localhost:8080/"
        },
        "id": "SpzM0C0NWCK6",
        "outputId": "5a53beb6-ce26-47c7-caac-9d934852fba2"
      },
      "execution_count": null,
      "outputs": [
        {
          "output_type": "stream",
          "name": "stdout",
          "text": [
            "['apple', 'cherries', [10, 20], 'lemon']\n"
          ]
        }
      ]
    },
    {
      "cell_type": "markdown",
      "source": [],
      "metadata": {
        "id": "y2zSIC1dWeEg"
      }
    },
    {
      "cell_type": "markdown",
      "source": [
        "pop()"
      ],
      "metadata": {
        "id": "2iTaGrNcWUTe"
      }
    },
    {
      "cell_type": "code",
      "source": [
        "l5 =['apple', 'cherries', [10, 20], 'lemon', 'lemon']\n",
        "l5.pop()  #----> defalt it takes last element in the list\n",
        "print(l5)"
      ],
      "metadata": {
        "colab": {
          "base_uri": "https://localhost:8080/"
        },
        "id": "UhGmNOrXWTR1",
        "outputId": "24713768-d408-4baa-dd33-c22db7c4d59c"
      },
      "execution_count": null,
      "outputs": [
        {
          "output_type": "stream",
          "name": "stdout",
          "text": [
            "['apple', 'cherries', [10, 20], 'lemon']\n"
          ]
        }
      ]
    },
    {
      "cell_type": "code",
      "source": [
        "l5 =['apple', 'cherries', [10, 20], 'lemon', 'lemon']\n",
        "l5.pop(2)\n",
        "print(l5)"
      ],
      "metadata": {
        "colab": {
          "base_uri": "https://localhost:8080/"
        },
        "id": "4NbyLDgwWhVR",
        "outputId": "4515dbcd-3b41-4af9-92de-f50f4c694550"
      },
      "execution_count": null,
      "outputs": [
        {
          "output_type": "stream",
          "name": "stdout",
          "text": [
            "['apple', 'cherries', 'lemon', 'lemon']\n"
          ]
        }
      ]
    },
    {
      "cell_type": "code",
      "source": [
        "#delete\n",
        "l6 =['apple', 'cherries', [10, 20], 'lemon', \"orange\", \"lemon\", \"banana\",\"watermelon\"]\n",
        "del l6[2:5]\n",
        "print(l6)"
      ],
      "metadata": {
        "colab": {
          "base_uri": "https://localhost:8080/"
        },
        "id": "5ri9t1nzW3Yq",
        "outputId": "9227751e-f1a9-4430-a8a4-276786bd643d"
      },
      "execution_count": null,
      "outputs": [
        {
          "output_type": "stream",
          "name": "stdout",
          "text": [
            "['apple', 'cherries', 'lemon', 'banana', 'watermelon']\n"
          ]
        }
      ]
    },
    {
      "cell_type": "code",
      "source": [
        "del l6 #this will delete entire collection or list\n"
      ],
      "metadata": {
        "id": "vjARY7ttYPpy"
      },
      "execution_count": null,
      "outputs": []
    },
    {
      "cell_type": "code",
      "source": [
        "#sorting can be done based on ascii numbers\n",
        "#ASCII:- american standaer code for information inter change."
      ],
      "metadata": {
        "id": "wpTsw9AEZpVr"
      },
      "execution_count": null,
      "outputs": []
    },
    {
      "cell_type": "code",
      "source": [
        "l2 = [\"mango\",\"Apple\",\"pineapple\",\"grapes\",\"kiwi\",\"watermelon\"]\n",
        "#insert \"apple\" in index posituion \"1\"\n",
        "l2.insert(1,\"apple\")\n",
        "print(l2)"
      ],
      "metadata": {
        "colab": {
          "base_uri": "https://localhost:8080/"
        },
        "id": "HySos9ClbFSR",
        "outputId": "6268a23f-3ff1-40a2-f8fa-187dc6828eb4"
      },
      "execution_count": null,
      "outputs": [
        {
          "output_type": "stream",
          "name": "stdout",
          "text": [
            "['mango', 'apple', 'Apple', 'pineapple', 'grapes', 'kiwi', 'watermelon']\n"
          ]
        }
      ]
    },
    {
      "cell_type": "markdown",
      "source": [
        "sorting()"
      ],
      "metadata": {
        "id": "3YycfmBYcSA7"
      }
    },
    {
      "cell_type": "code",
      "source": [
        "l2.sort()    #----> defalt is ascending order (lower to higher ...A asci value is 65)\n",
        "print(l2)"
      ],
      "metadata": {
        "colab": {
          "base_uri": "https://localhost:8080/"
        },
        "id": "mvdUcfo7b0s6",
        "outputId": "15bf2585-c834-43c8-fd04-c3492455b2ca"
      },
      "execution_count": null,
      "outputs": [
        {
          "output_type": "stream",
          "name": "stdout",
          "text": [
            "['Apple', 'apple', 'grapes', 'kiwi', 'mango', 'pineapple', 'watermelon']\n"
          ]
        }
      ]
    },
    {
      "cell_type": "code",
      "source": [
        "l2.sort(reverse = True)\n",
        "print(l2)"
      ],
      "metadata": {
        "colab": {
          "base_uri": "https://localhost:8080/"
        },
        "id": "UNWPpRzpcFMV",
        "outputId": "c645a2c7-df5f-41b1-9e0a-f3f6f5aea980"
      },
      "execution_count": null,
      "outputs": [
        {
          "output_type": "stream",
          "name": "stdout",
          "text": [
            "['watermelon', 'ornage', 'lemon', 'kiwi', 'cherries', 'Banana', 'Apple']\n"
          ]
        }
      ]
    },
    {
      "cell_type": "code",
      "source": [
        "#sort the above collection with out case sensitivity.\n",
        "l2.sort(reverse= False,key =str.lower)\n",
        "print(l2)"
      ],
      "metadata": {
        "colab": {
          "base_uri": "https://localhost:8080/"
        },
        "id": "yCPiKqDlctUF",
        "outputId": "0f4075b7-0a28-4f43-ae06-3cb0d872e483"
      },
      "execution_count": null,
      "outputs": [
        {
          "output_type": "stream",
          "name": "stdout",
          "text": [
            "['apple', 'Apple', 'grapes', 'kiwi', 'mango', 'pineapple', 'watermelon']\n"
          ]
        }
      ]
    },
    {
      "cell_type": "markdown",
      "source": [
        "# tuple()"
      ],
      "metadata": {
        "id": "1LQ-0x1Oftbg"
      }
    },
    {
      "cell_type": "code",
      "source": [
        "# tuple:-->()\n",
        "#ordered, immutable(unchangable) it allows the duplicates\n"
      ],
      "metadata": {
        "id": "7biT9N9TfpQl"
      },
      "execution_count": null,
      "outputs": []
    },
    {
      "cell_type": "code",
      "source": [
        "#tuple allows duplicates\n",
        "t1 = (\"anji\",\"balu\",\"raju\",\"bhnau\",\"aayu\",\"naresh\",\"balu\")\n",
        "print(t1)\n",
        "print(len(t1))\n",
        "print(type(t1))"
      ],
      "metadata": {
        "colab": {
          "base_uri": "https://localhost:8080/"
        },
        "id": "V-cJgCw0dO0B",
        "outputId": "205f5c4f-14de-4870-a6e2-64fc2ab01ffe"
      },
      "execution_count": null,
      "outputs": [
        {
          "output_type": "stream",
          "name": "stdout",
          "text": [
            "('anji', 'balu', 'raju', 'bhnau', 'aayu', 'naresh', 'balu')\n",
            "7\n",
            "<class 'tuple'>\n"
          ]
        }
      ]
    },
    {
      "cell_type": "code",
      "source": [
        "#tuples are ordered :- accessing or desplaying the specific data by using index position numbers.\n",
        "#each element in the collection is having its index position number.\n",
        "\n",
        "t1= (\"anji\",\"balu\",\"raju\",\"bhnau\",\"aayu\",\"naresh\",\"balu\")\n",
        "print(t1[4])\n"
      ],
      "metadata": {
        "colab": {
          "base_uri": "https://localhost:8080/"
        },
        "id": "Qhu2YLf-gVn7",
        "outputId": "e830aa54-4821-469c-bdb6-bf8c7d88fa93"
      },
      "execution_count": null,
      "outputs": [
        {
          "output_type": "stream",
          "name": "stdout",
          "text": [
            "aayu\n"
          ]
        }
      ]
    },
    {
      "cell_type": "code",
      "source": [
        "print(t1[3:6])"
      ],
      "metadata": {
        "colab": {
          "base_uri": "https://localhost:8080/"
        },
        "id": "3GQvXBg4hoP6",
        "outputId": "b453b115-6b4e-4278-d61e-b93469386fca"
      },
      "execution_count": null,
      "outputs": [
        {
          "output_type": "stream",
          "name": "stdout",
          "text": [
            "('bhnau', 'aayu', 'naresh')\n"
          ]
        }
      ]
    },
    {
      "cell_type": "code",
      "source": [
        "#print even positions in the below collection ?\n",
        "print(t1[:: 2])"
      ],
      "metadata": {
        "colab": {
          "base_uri": "https://localhost:8080/"
        },
        "id": "4yNGKb20huUC",
        "outputId": "b416bb0f-cc7f-444f-e142-45b65cbca63f"
      },
      "execution_count": null,
      "outputs": [
        {
          "output_type": "stream",
          "name": "stdout",
          "text": [
            "('anji', 'raju', 'aayu', 'balu')\n"
          ]
        }
      ]
    },
    {
      "cell_type": "code",
      "source": [
        "#reverse the tuple\n",
        "t1 = (\"anji\",\"balu\",\"raju\",\"bhnau\",\"aayu\",\"naresh\",\"balu\")\n",
        "print(t1[::-1])"
      ],
      "metadata": {
        "colab": {
          "base_uri": "https://localhost:8080/"
        },
        "id": "OcNCoU1CiVlg",
        "outputId": "4c80903d-272d-4946-c4b8-70e7c2d67a9a"
      },
      "execution_count": null,
      "outputs": [
        {
          "output_type": "stream",
          "name": "stdout",
          "text": [
            "('balu', 'naresh', 'aayu', 'bhnau', 'raju', 'balu', 'anji')\n"
          ]
        }
      ]
    },
    {
      "cell_type": "code",
      "source": [
        "#Immutable:-\n",
        "t1 = (\"anji\",\"balu\",\"raju\",\"bhnau\",\"aayu\",\"naresh\",\"balu\")\n",
        "t1[1]=\"sai\"\n",
        "print(t1)\n",
        "t1.pop()\n",
        "print(t1)\n",
        "#Note:- tuples are immutable so we can not add or delete items from tuple"
      ],
      "metadata": {
        "id": "mqtm27mrjx0O"
      },
      "execution_count": null,
      "outputs": []
    },
    {
      "cell_type": "code",
      "source": [
        "print(dir(tuple))"
      ],
      "metadata": {
        "colab": {
          "base_uri": "https://localhost:8080/"
        },
        "id": "-AgKaKU8ldq4",
        "outputId": "720c73f1-66a1-4db8-d2a7-6a53458edc3e"
      },
      "execution_count": null,
      "outputs": [
        {
          "output_type": "stream",
          "name": "stdout",
          "text": [
            "['__add__', '__class__', '__class_getitem__', '__contains__', '__delattr__', '__dir__', '__doc__', '__eq__', '__format__', '__ge__', '__getattribute__', '__getitem__', '__getnewargs__', '__gt__', '__hash__', '__init__', '__init_subclass__', '__iter__', '__le__', '__len__', '__lt__', '__mul__', '__ne__', '__new__', '__reduce__', '__reduce_ex__', '__repr__', '__rmul__', '__setattr__', '__sizeof__', '__str__', '__subclasshook__', 'count', 'index']\n"
          ]
        }
      ]
    },
    {
      "cell_type": "code",
      "source": [
        "\n",
        "print(t1.count(\"balu\"))\n",
        "print(t1.index(\"raju\"))"
      ],
      "metadata": {
        "colab": {
          "base_uri": "https://localhost:8080/"
        },
        "id": "IqSUCGYLlkZ0",
        "outputId": "0a81760a-bbbb-402a-9ed9-451a450059ec"
      },
      "execution_count": null,
      "outputs": [
        {
          "output_type": "stream",
          "name": "stdout",
          "text": [
            "2\n",
            "2\n"
          ]
        }
      ]
    },
    {
      "cell_type": "code",
      "source": [
        "#create a list by using the tuple\n",
        "t1 = (\"anji\",\"balu\",\"raju\",\"bhnau\",\"aayu\",\"naresh\",\"balu\")\n",
        "print(type(t1))\n",
        "t2= list(t1)\n",
        "print(t2)\n",
        "print(type(t2))"
      ],
      "metadata": {
        "colab": {
          "base_uri": "https://localhost:8080/"
        },
        "id": "xSdIidFmm-pt",
        "outputId": "b3178c04-65c4-4f5b-bd0c-c2e1ec78b60f"
      },
      "execution_count": null,
      "outputs": [
        {
          "output_type": "stream",
          "name": "stdout",
          "text": [
            "<class 'tuple'>\n",
            "['anji', 'balu', 'raju', 'bhnau', 'aayu', 'naresh', 'balu']\n",
            "<class 'list'>\n"
          ]
        }
      ]
    },
    {
      "cell_type": "code",
      "source": [
        "#difference between list and tuple?\n",
        "# why tuples are faster then list?"
      ],
      "metadata": {
        "id": "tTtMBs6bonCI"
      },
      "execution_count": null,
      "outputs": []
    },
    {
      "cell_type": "markdown",
      "source": [
        "# set{}"
      ],
      "metadata": {
        "id": "x4okWPtaErb7"
      }
    },
    {
      "cell_type": "code",
      "source": [
        "#set --->{}\n",
        "#unordered, immutable,it wont allow the duplicates>\n",
        "s1= {\"anji\",\"balu\",\"raju\",\"bhnau\",\"aayu\",\"naresh\",\"balu\"}\n",
        "print(s1)"
      ],
      "metadata": {
        "colab": {
          "base_uri": "https://localhost:8080/"
        },
        "id": "9gyyd_7l0ZVO",
        "outputId": "b3c13ca8-e2ca-4ee3-9c74-5adb75dbcf68"
      },
      "execution_count": null,
      "outputs": [
        {
          "output_type": "stream",
          "name": "stdout",
          "text": [
            "{'anji', 'raju', 'balu', 'naresh', 'bhnau', 'aayu'}\n"
          ]
        }
      ]
    },
    {
      "cell_type": "code",
      "source": [
        "#unordered--> we can not access the elements from the sets why because it doesn't have index position  numbers.\n",
        "print(s1[2])\n"
      ],
      "metadata": {
        "id": "v37wWCpaGKM5"
      },
      "execution_count": null,
      "outputs": []
    },
    {
      "cell_type": "code",
      "source": [
        "#sets are immutable--->\n",
        "# in sets we can able to add and delete the items/elements but we can not replace the items/elements\n",
        "#why we can't swap or replace or chage elements in sets?\n",
        "#sets does not have index positions so we cannot replace the elements\n",
        "#where the elements in set are storing?\n",
        "#elements are storeing randomly in sets."
      ],
      "metadata": {
        "id": "JiHL2BZDGuIB"
      },
      "execution_count": null,
      "outputs": []
    },
    {
      "cell_type": "code",
      "source": [
        "#adding of elements in the sets\n",
        "#what is the defalt index poitions when you add elements/items in the set.\n",
        "s1.add(\"sai\")\n",
        "print(s1)"
      ],
      "metadata": {
        "colab": {
          "base_uri": "https://localhost:8080/"
        },
        "id": "R_mrXmOLIG8s",
        "outputId": "a7a8d937-4790-485e-95a3-fc944342257f"
      },
      "execution_count": null,
      "outputs": [
        {
          "output_type": "stream",
          "name": "stdout",
          "text": [
            "{'anji', 'raju', 'balu', 'naresh', 'bhnau', 'aayu', 'sai'}\n"
          ]
        }
      ]
    },
    {
      "cell_type": "code",
      "source": [
        "#if i want to add multiple values in the set then?\n",
        "#update\n",
        "s2={\"chikki\",\"laddu\",\"vamshi\"}\n",
        "s1.update(s2)\n",
        "print(s1)"
      ],
      "metadata": {
        "colab": {
          "base_uri": "https://localhost:8080/"
        },
        "id": "i-zwAybvItgd",
        "outputId": "7cbad28b-6544-4262-983e-ff3ea728c833"
      },
      "execution_count": null,
      "outputs": [
        {
          "output_type": "stream",
          "name": "stdout",
          "text": [
            "{'anji', 'naresh', 'bhnau', 'aayu', 'sai', 'raju', 'balu', 'laddu', 'chikki', 'vamshi'}\n"
          ]
        }
      ]
    },
    {
      "cell_type": "code",
      "source": [
        "s3= {1.2,3,4,5,3}\n",
        "print(s3)\n",
        "s3.update(\"20\",\"30\",\"40\")\n",
        "print(s3)"
      ],
      "metadata": {
        "colab": {
          "base_uri": "https://localhost:8080/"
        },
        "id": "sYuxmjEqNX_1",
        "outputId": "3b556254-ca1d-4fd7-b498-45f87c23121a"
      },
      "execution_count": null,
      "outputs": [
        {
          "output_type": "stream",
          "name": "stdout",
          "text": [
            "{1.2, 3, 4, 5}\n",
            "{'0', 1.2, 3, 4, 5, '4', '2', '3'}\n"
          ]
        }
      ]
    },
    {
      "cell_type": "code",
      "source": [
        "#remove elements from set.\n",
        "s1.remove(\"balu\")\n",
        "print(s1)\n",
        "#remobve takes exactly one argument'"
      ],
      "metadata": {
        "colab": {
          "base_uri": "https://localhost:8080/"
        },
        "id": "yOk-Dqc0N7iU",
        "outputId": "5b5fb365-bc02-4ca4-86ab-eb7cce7d0545"
      },
      "execution_count": null,
      "outputs": [
        {
          "output_type": "stream",
          "name": "stdout",
          "text": [
            "{'anji', 'naresh', 'bhnau', 'aayu', 'sai', 'raju', 'laddu', 'chikki', 'vamshi'}\n"
          ]
        }
      ]
    },
    {
      "cell_type": "code",
      "source": [
        "#discord\n",
        "s1.discard(\"vamshi\")\n",
        "print(s1)\n",
        "#set.discard() takes exactly one argument"
      ],
      "metadata": {
        "colab": {
          "base_uri": "https://localhost:8080/"
        },
        "id": "Pqa3npKQOZ5P",
        "outputId": "2607ec07-b9d8-44a3-f28c-7e4615f5ab0f"
      },
      "execution_count": null,
      "outputs": [
        {
          "output_type": "stream",
          "name": "stdout",
          "text": [
            "{'anji', 'naresh', 'bhnau', 'aayu', 'sai', 'raju', 'laddu', 'chikki'}\n"
          ]
        }
      ]
    },
    {
      "cell_type": "code",
      "source": [
        "#pop()\n",
        "s1={'anji', 'naresh', 'bhnau', 'aayu', 'sai', 'raju', 'laddu', 'chikki'}\n",
        "s1.pop()\n",
        "print(s1)\n",
        "#why we are not using pop methods in sets?\n",
        "#it remove the elements randomly.\n"
      ],
      "metadata": {
        "colab": {
          "base_uri": "https://localhost:8080/"
        },
        "id": "7C4adwW5Ovei",
        "outputId": "a983a7fc-d928-4c97-cd3e-a686ab011b60"
      },
      "execution_count": null,
      "outputs": [
        {
          "output_type": "stream",
          "name": "stdout",
          "text": [
            "{'laddu', 'raju', 'sai', 'anji', 'naresh', 'bhnau', 'chikki'}\n"
          ]
        }
      ]
    },
    {
      "cell_type": "code",
      "source": [
        "#what is the difference between discard and remove?\n",
        "#when we use the discard if the itens exist or not in the collectin it wont through any errors while executing.\n",
        "\n",
        "s= {'0', 1,2, 3, 4, 5, '4', '2', '3'}\n",
        "s.discard(5)\n",
        "print(s)"
      ],
      "metadata": {
        "id": "vO1FTDQyPF3Q",
        "colab": {
          "base_uri": "https://localhost:8080/"
        },
        "outputId": "3b8e2dc3-2539-4b51-e7c6-eed5f3e78beb"
      },
      "execution_count": null,
      "outputs": [
        {
          "output_type": "stream",
          "name": "stdout",
          "text": [
            "{1, 2, 3, 4, '0', '3', '2', '4'}\n"
          ]
        }
      ]
    },
    {
      "cell_type": "code",
      "source": [
        "#execute matrix operation by using two sets\n",
        "#union and intersection\n",
        "s1 = {1,2,9,3,4,5}\n",
        "s2 = {4,5,6,7,8}\n",
        "s_add= s1.union(s2)\n",
        "print(s_add)\n"
      ],
      "metadata": {
        "colab": {
          "base_uri": "https://localhost:8080/"
        },
        "id": "nlDkjYSXP_iu",
        "outputId": "97fa5ee3-a457-47ed-dfa9-fdd6e085aaa1"
      },
      "execution_count": null,
      "outputs": [
        {
          "output_type": "stream",
          "name": "stdout",
          "text": [
            "{1, 2, 3, 4, 5, 6, 7, 8, 9}\n"
          ]
        }
      ]
    },
    {
      "cell_type": "code",
      "source": [
        "s_intersection = s1.intersection(s2)   #common elements will be printed\n",
        "print(s_intersection)"
      ],
      "metadata": {
        "colab": {
          "base_uri": "https://localhost:8080/"
        },
        "id": "BQ9b-Jw9RHZH",
        "outputId": "d66b271b-77d3-40e2-b15f-9eba940478ad"
      },
      "execution_count": null,
      "outputs": [
        {
          "output_type": "stream",
          "name": "stdout",
          "text": [
            "{4, 5}\n"
          ]
        }
      ]
    },
    {
      "cell_type": "markdown",
      "source": [
        "# Dictionary"
      ],
      "metadata": {
        "id": "IGfCzLU7VNPt"
      }
    },
    {
      "cell_type": "code",
      "source": [
        "#what is dictionary ?\n",
        "#---> {}---> unordered,mutable,donot allow the duplicates.\n",
        "#where the itens stored in dictionary.\n",
        "#key : value pairs"
      ],
      "metadata": {
        "id": "mH2jMU1ZRMq_"
      },
      "execution_count": null,
      "outputs": []
    },
    {
      "cell_type": "code",
      "source": [
        "#dictionary wont allows duplicares.\n",
        "d1 ={\n",
        "    \"name\":\"balu\",\n",
        "    \"age\": 23,\n",
        "    \"education\" : \"b.tech in data science\",\n",
        "    \"education\" :\"Btech\"\n",
        "}\n",
        "print(d1)\n",
        "print(len(d1))"
      ],
      "metadata": {
        "colab": {
          "base_uri": "https://localhost:8080/"
        },
        "id": "ARMCPw_GYFof",
        "outputId": "9041080a-2159-44b9-c25f-1049be3287b1"
      },
      "execution_count": null,
      "outputs": [
        {
          "output_type": "stream",
          "name": "stdout",
          "text": [
            "{'name': 'balu', 'age': 23, 'education': 'Btech'}\n",
            "3\n"
          ]
        }
      ]
    },
    {
      "cell_type": "code",
      "source": [
        "d1 ={\n",
        "    \"name\":\"balu\",\n",
        "    \"age\": 23,\n",
        "    \"education\" : \"b.tech in data science\",\n",
        "    \"education\" :\"Btech\",\n",
        "    \"fruits\":[\"apple\",\"banana\",\"cherry\",\"mango\",\"pinapple\",\"oranges\",\"apple\"]\n",
        "}\n",
        "print(d1)\n",
        "print(d1[\"name\"])"
      ],
      "metadata": {
        "colab": {
          "base_uri": "https://localhost:8080/"
        },
        "id": "zdEQK_9JYidP",
        "outputId": "82721fce-c46f-48c5-8cac-ca7134137f8b"
      },
      "execution_count": null,
      "outputs": [
        {
          "output_type": "stream",
          "name": "stdout",
          "text": [
            "{'name': 'balu', 'age': 23, 'education': 'Btech', 'fruits': ['apple', 'banana', 'cherry', 'mango', 'pinapple', 'oranges', 'apple']}\n",
            "balu\n"
          ]
        }
      ]
    },
    {
      "cell_type": "code",
      "source": [
        "#print \"name\" from dictionary \"d1\"\n",
        "print(d1[\"name\"])\n",
        "print(d1[\"fruits\"][2:5])"
      ],
      "metadata": {
        "colab": {
          "base_uri": "https://localhost:8080/"
        },
        "id": "h_GpU4YFagbP",
        "outputId": "a80b86e2-c261-4ea2-fd06-d411c197fb04"
      },
      "execution_count": null,
      "outputs": [
        {
          "output_type": "stream",
          "name": "stdout",
          "text": [
            "balu\n",
            "['cherry', 'mango', 'pinapple']\n"
          ]
        }
      ]
    },
    {
      "cell_type": "code",
      "source": [
        "# I what to replace the value of the \"name\"\n",
        "d1[\"name\"]=\"balraju\"\n",
        "print(d1)"
      ],
      "metadata": {
        "colab": {
          "base_uri": "https://localhost:8080/"
        },
        "id": "b_ZidmwibLQN",
        "outputId": "17f1a4b3-e6e4-4b96-9aed-5f61f7a2942d"
      },
      "execution_count": null,
      "outputs": [
        {
          "output_type": "stream",
          "name": "stdout",
          "text": [
            "{'name': 'balraju', 'age': 23, 'education': 'Btech', 'fruits': ['apple', 'banana', 'cherry', 'mango', 'pinapple', 'oranges', 'apple']}\n"
          ]
        }
      ]
    },
    {
      "cell_type": "code",
      "source": [
        "d1[\"bike\"]=\"RX100\"\n",
        "print(d1)"
      ],
      "metadata": {
        "colab": {
          "base_uri": "https://localhost:8080/"
        },
        "id": "R17dTYLUcfUL",
        "outputId": "d0e84364-e9e7-45dc-ebd3-6cba837a16f9"
      },
      "execution_count": null,
      "outputs": [
        {
          "output_type": "stream",
          "name": "stdout",
          "text": [
            "{'name': 'balraju', 'age': 23, 'education': 'Btech', 'fruits': ['apple', 'banana', 'cherry', 'mango', 'pinapple', 'oranges', 'apple'], 'bike': 'RX100'}\n"
          ]
        }
      ]
    },
    {
      "cell_type": "code",
      "source": [
        "#we are not using any replace and insert methods in dictionary\n",
        "#if  the key name exits the value gets replaced others if the key naem doesn't exit a new:value pair is added.\n",
        "#"
      ],
      "metadata": {
        "id": "rNhyUtE5cyXq"
      },
      "execution_count": null,
      "outputs": []
    },
    {
      "cell_type": "code",
      "source": [
        "#how can we delete or remove items in adectionary?\n",
        "d1 ={\n",
        "    \"name\":\"balu\",\n",
        "    \"age\": 23,\n",
        "    \"education\" : \"b.tech in data science\",\n",
        "    \"education\" :\"Btech\",\n",
        "    \"fruits\":[\"apple\",\"banana\",\"cherry\",\"mango\",\"pinapple\",\"oranges\",\"apple\"]\n",
        "}"
      ],
      "metadata": {
        "id": "4R3vV8o5dYi8"
      },
      "execution_count": null,
      "outputs": []
    },
    {
      "cell_type": "code",
      "source": [
        "#delete fruits from the above dict\n",
        "d1.pop(\"fruits\")\n",
        "print(d1)"
      ],
      "metadata": {
        "colab": {
          "base_uri": "https://localhost:8080/"
        },
        "id": "my-Z17dedYfn",
        "outputId": "f5774531-5941-42b4-d37d-634e14cd9c3e"
      },
      "execution_count": null,
      "outputs": [
        {
          "output_type": "stream",
          "name": "stdout",
          "text": [
            "{'name': 'balraju', 'age': 23, 'education': 'Btech', 'bike': 'RX100'}\n"
          ]
        }
      ]
    },
    {
      "cell_type": "code",
      "source": [
        "d1 ={\n",
        "    \"name\":\"balu\",\n",
        "    \"age\": 23,\n",
        "    \"education\" : \"b.tech in data science\",\n",
        "    \"education\" :\"Btech\",\n",
        "    \"fruits\":[\"apple\",\"banana\",\"cherry\",\"mango\",\"pinapple\",\"oranges\",\"apple\"]\n",
        "}\n"
      ],
      "metadata": {
        "id": "MlTi3JT9dYdO"
      },
      "execution_count": null,
      "outputs": []
    },
    {
      "cell_type": "code",
      "source": [
        "#insert kiwi into fruits of list\n",
        "d1[\"fruits\"][1] = \"kiwi\"\n",
        "print(d1)"
      ],
      "metadata": {
        "colab": {
          "base_uri": "https://localhost:8080/"
        },
        "id": "CmqrFgF1eh1N",
        "outputId": "8e796eb9-9daa-46be-a473-ab6f4a753577"
      },
      "execution_count": null,
      "outputs": [
        {
          "output_type": "stream",
          "name": "stdout",
          "text": [
            "{'name': 'balu', 'age': 23, 'education': 'Btech', 'fruits': ['apple', 'kiwi', 'cherry', 'mango', 'pinapple', 'oranges', 'apple']}\n"
          ]
        }
      ]
    },
    {
      "cell_type": "code",
      "source": [
        "d1[\"fruits\"].insert(1,\"grapes\")\n",
        "print(d1)"
      ],
      "metadata": {
        "colab": {
          "base_uri": "https://localhost:8080/"
        },
        "id": "fpBO7xbaehxo",
        "outputId": "f8d89cfb-2529-4b8b-8ea9-55874d33d00c"
      },
      "execution_count": null,
      "outputs": [
        {
          "output_type": "stream",
          "name": "stdout",
          "text": [
            "{'name': 'balu', 'age': 23, 'education': 'Btech', 'fruits': ['apple', 'grapes', 'kiwi', 'cherry', 'mango', 'pinapple', 'oranges', 'apple']}\n"
          ]
        }
      ]
    },
    {
      "cell_type": "code",
      "source": [
        "d1[\"fruits\"].append(\"lemon\")\n",
        "print(d1)"
      ],
      "metadata": {
        "colab": {
          "base_uri": "https://localhost:8080/"
        },
        "id": "Bsv18o9gehux",
        "outputId": "4e4029ab-8b84-4f59-d6bc-c3ee0e7630b3"
      },
      "execution_count": null,
      "outputs": [
        {
          "output_type": "stream",
          "name": "stdout",
          "text": [
            "{'name': 'balu', 'age': 23, 'education': 'Btech', 'fruits': ['apple', 'grapes', 'kiwi', 'cherry', 'mango', 'pinapple', 'oranges', 'apple', 'lemon']}\n"
          ]
        }
      ]
    },
    {
      "cell_type": "code",
      "source": [
        "del d1[\"age\"]\n",
        "print(d1)"
      ],
      "metadata": {
        "colab": {
          "base_uri": "https://localhost:8080/"
        },
        "id": "zO-seQKnehkB",
        "outputId": "d5ed336b-26c3-4893-aa1f-551ba4542bd2"
      },
      "execution_count": null,
      "outputs": [
        {
          "output_type": "stream",
          "name": "stdout",
          "text": [
            "{'name': 'balu', 'education': 'Btech', 'fruits': ['apple', 'grapes', 'kiwi', 'cherry', 'mango', 'pinapple', 'oranges', 'apple', 'lemon']}\n"
          ]
        }
      ]
    },
    {
      "cell_type": "code",
      "source": [
        "d1.clear()  #it delete the complete dictionary"
      ],
      "metadata": {
        "id": "xZJFZTXUehgh"
      },
      "execution_count": null,
      "outputs": []
    },
    {
      "cell_type": "code",
      "source": [
        "print(d1)"
      ],
      "metadata": {
        "colab": {
          "base_uri": "https://localhost:8080/"
        },
        "id": "b8Rg7OthhrRT",
        "outputId": "f26c0ac2-7bf8-4a73-9f2d-3ee61c365d84"
      },
      "execution_count": null,
      "outputs": [
        {
          "output_type": "stream",
          "name": "stdout",
          "text": [
            "{}\n"
          ]
        }
      ]
    },
    {
      "cell_type": "code",
      "source": [
        "d4= {\n",
        "    \"name\":\"balu\",\n",
        "    \"age\":23,\n",
        "    \"education\":\"b.tech\"\n",
        "}"
      ],
      "metadata": {
        "id": "uzyMXPJxhuEJ"
      },
      "execution_count": null,
      "outputs": []
    },
    {
      "cell_type": "code",
      "source": [
        "#print only keys from dictionary\n",
        "print(d4.keys())\n",
        "#print only items\n",
        "print(d4.items())\n",
        "#print only values\n",
        "print(d4.values())"
      ],
      "metadata": {
        "colab": {
          "base_uri": "https://localhost:8080/"
        },
        "id": "m2gs0wWCibhu",
        "outputId": "e706e660-179b-42b5-ef9e-bbcbcdcbd755"
      },
      "execution_count": null,
      "outputs": [
        {
          "output_type": "stream",
          "name": "stdout",
          "text": [
            "dict_keys(['name', 'age', 'education'])\n",
            "dict_items([('name', 'balu'), ('age', 23), ('education', 'b.tech')])\n",
            "dict_values(['balu', 23, 'b.tech'])\n"
          ]
        }
      ]
    },
    {
      "cell_type": "code",
      "source": [
        "#working with loops in dictionary\n",
        "for x in d4:\n",
        "  print(x)"
      ],
      "metadata": {
        "colab": {
          "base_uri": "https://localhost:8080/"
        },
        "id": "XAfmdvN5i5hj",
        "outputId": "cf9286f2-5217-439c-f991-b3577f400744"
      },
      "execution_count": null,
      "outputs": [
        {
          "output_type": "stream",
          "name": "stdout",
          "text": [
            "name\n",
            "age\n",
            "education\n"
          ]
        }
      ]
    },
    {
      "cell_type": "code",
      "source": [
        "#print values in a seperate line\n",
        "for x in d4.values():\n",
        "  print(x)"
      ],
      "metadata": {
        "colab": {
          "base_uri": "https://localhost:8080/"
        },
        "id": "ETmZWGQSjaKC",
        "outputId": "19250cf2-686d-450e-ea6e-464ab49725b8"
      },
      "execution_count": null,
      "outputs": [
        {
          "output_type": "stream",
          "name": "stdout",
          "text": [
            "balu\n",
            "23\n",
            "b.tech\n"
          ]
        }
      ]
    },
    {
      "cell_type": "code",
      "source": [
        "for x in d4.items():\n",
        "  print(x)"
      ],
      "metadata": {
        "colab": {
          "base_uri": "https://localhost:8080/"
        },
        "id": "_ROmbilmjk72",
        "outputId": "b89d54da-78be-4dd3-a25d-c2945ba786f0"
      },
      "execution_count": null,
      "outputs": [
        {
          "output_type": "stream",
          "name": "stdout",
          "text": [
            "('name', 'balu')\n",
            "('age', 23)\n",
            "('education', 'b.tech')\n"
          ]
        }
      ]
    },
    {
      "cell_type": "code",
      "source": [
        "for x in d4.keys():\n",
        "  print(f\"{x}:{d4[x]}\")"
      ],
      "metadata": {
        "colab": {
          "base_uri": "https://localhost:8080/"
        },
        "id": "gLCBUiufjuB_",
        "outputId": "b987ece2-aeaf-481c-c6a0-f0b715fd3633"
      },
      "execution_count": null,
      "outputs": [
        {
          "output_type": "stream",
          "name": "stdout",
          "text": [
            "name:balu\n",
            "age:23\n",
            "education:b.tech\n"
          ]
        }
      ]
    },
    {
      "cell_type": "markdown",
      "source": [
        "# function()"
      ],
      "metadata": {
        "id": "FPU0SqtEbGu1"
      }
    },
    {
      "cell_type": "code",
      "source": [
        "#what is a function()\n",
        "'''function ia block of code which only runs when it is called '''\n",
        "#how to create the function and how to call the function ?\n",
        "#to create the function use keyword called \"def\"\n",
        "def balu():\n",
        "  print(\"hello world\")\n",
        "  print(\"this is running with a function\")\n",
        "  print(\"---------------\")\n",
        "\n",
        "#call this function\n",
        "balu()"
      ],
      "metadata": {
        "id": "g-o774xFkpYi",
        "colab": {
          "base_uri": "https://localhost:8080/"
        },
        "outputId": "91fd8f8a-4e2b-4dd6-8c09-aa68e0231efa"
      },
      "execution_count": null,
      "outputs": [
        {
          "output_type": "stream",
          "name": "stdout",
          "text": [
            "hello world\n",
            "this is running with a function\n",
            "---------------\n"
          ]
        }
      ]
    },
    {
      "cell_type": "code",
      "source": [
        "def zenvius_welcome():\n",
        "  print(\"hello good morning\")\n",
        "  print(\"this is your module 2\")\n",
        "  print(\"please practice your session\")\n",
        "zenvius_welcome()\n",
        "#balu()"
      ],
      "metadata": {
        "colab": {
          "base_uri": "https://localhost:8080/"
        },
        "id": "48Grd2Gkd5Lf",
        "outputId": "45a95470-caca-4037-b1de-f04df8184d80"
      },
      "execution_count": null,
      "outputs": [
        {
          "output_type": "stream",
          "name": "stdout",
          "text": [
            "hello good morning\n",
            "this is your module 2\n",
            "please practice your session\n"
          ]
        }
      ]
    },
    {
      "cell_type": "code",
      "source": [
        "#what is parameter\n",
        "#what is argument\n",
        "#what is difference between parameter and argument?"
      ],
      "metadata": {
        "id": "3BpGYLWEfW5l"
      },
      "execution_count": null,
      "outputs": []
    },
    {
      "cell_type": "markdown",
      "source": [
        "parameter"
      ],
      "metadata": {
        "id": "bQkWRwAYhhhm"
      }
    },
    {
      "cell_type": "code",
      "source": [
        "#what is parameter?\n",
        "#creating a variable when you defining a function is known  as parameter\n",
        "def details(name,age,gender,education):\n",
        "  print(f\"hello {name}, and my age is {age},my gender is {gender},i have done my graduation in {education}\")\n",
        "\n",
        "#call this function\n",
        "name=input(\"enter your name:\")\n",
        "age=int(input(\"enter your age:\"))\n",
        "gender=input(\"enter your gender:\")\n",
        "education=input(\"enter your education\")\n",
        "\n",
        "#what is argument?\n",
        "#calling the function with certain values\n",
        "details(name,age,gender,education)"
      ],
      "metadata": {
        "colab": {
          "base_uri": "https://localhost:8080/"
        },
        "id": "BnyTef2_hgz5",
        "outputId": "bc158006-7ec3-48b0-9cd6-f3c0feb13d36"
      },
      "execution_count": null,
      "outputs": [
        {
          "output_type": "stream",
          "name": "stdout",
          "text": [
            "enter your name:balu\n",
            "enter your age:23\n",
            "enter your gender:male\n",
            "enter your educationB.tech\n",
            "hello balu, and my age is 23,my gender is male,i have done my graduation in B.tech\n"
          ]
        }
      ]
    },
    {
      "cell_type": "code",
      "source": [
        "def details(name,age,gender,education):\n",
        "  print(f\"hello {name}, and my age is {age}, my gender is {gender}, i have done my graduation in {education}\")\n",
        "details(\"balu\",23,\"male\",\"B.tech\")"
      ],
      "metadata": {
        "colab": {
          "base_uri": "https://localhost:8080/"
        },
        "id": "W4Vd5iUlXTTE",
        "outputId": "141f4a1e-4243-4d25-ba51-d7d21369ce3d"
      },
      "execution_count": null,
      "outputs": [
        {
          "output_type": "stream",
          "name": "stdout",
          "text": [
            "hello balu, and my age is 23, my gender is male, i have done my graduation in B.tech\n"
          ]
        }
      ]
    },
    {
      "cell_type": "code",
      "source": [
        "def details(name,age,gender,education):  #----> these are parameters\n",
        "    print(f\"hello {name}, and my age is {age}, my gender is {gender}, i have done my graduation in {education}\")\n",
        "details(\"balu\",23,\"male\",\"B.tech\") #---> these are arguments\n",
        "\n",
        "#note:- it is important to give or to call function with same number of arguments when you have defined function with specific number of parameters.\n",
        "#call function--> N0. of parameters == No.of argumengts"
      ],
      "metadata": {
        "colab": {
          "base_uri": "https://localhost:8080/"
        },
        "id": "y9pLLbCJioa9",
        "outputId": "22c5ab2d-7f1f-40f0-f038-cb26c739b1ec"
      },
      "execution_count": null,
      "outputs": [
        {
          "output_type": "stream",
          "name": "stdout",
          "text": [
            "hello balu, and my age is 23,my gender is male,i have done my graduation in B.tech\n"
          ]
        }
      ]
    },
    {
      "cell_type": "code",
      "source": [
        "#what  do i do when i dont know hoe many paramenters do i need to pass?\n",
        "def f2(**name):\n",
        "  for x in name:\n",
        "    print(f\"hello,{x}\")\n",
        "  print(\"==============\")\n",
        "f2(name=\"python\",last_name=\"programming language\")"
      ],
      "metadata": {
        "colab": {
          "base_uri": "https://localhost:8080/"
        },
        "id": "YSeWAgxolA70",
        "outputId": "eca893aa-4afd-40bd-fd64-6df1126e81e5"
      },
      "execution_count": null,
      "outputs": [
        {
          "output_type": "stream",
          "name": "stdout",
          "text": [
            "hello,name\n",
            "hello,last_name\n",
            "==============\n"
          ]
        }
      ]
    },
    {
      "cell_type": "code",
      "source": [],
      "metadata": {
        "colab": {
          "base_uri": "https://localhost:8080/"
        },
        "id": "ghE-uenjZmZl",
        "outputId": "ce6dd58e-13b3-406f-d42b-3c44718e43ef"
      },
      "execution_count": null,
      "outputs": [
        {
          "output_type": "stream",
          "name": "stdout",
          "text": [
            "java 20\n"
          ]
        }
      ]
    },
    {
      "cell_type": "code",
      "source": [
        "def f2(**name):\n",
        "  for x,y in name.items():\n",
        "    print(f\"{x}={y}\")\n",
        "  print(\"==============\")\n",
        "f2(name=\"python\",last_name=\"programming language\")\n",
        "f2(name= \"java\",last_name=\"programming laguage\",mobile=987654321)\n",
        "f2(address=\"ameerpet\",institute=\"zenvius\")\n"
      ],
      "metadata": {
        "colab": {
          "base_uri": "https://localhost:8080/"
        },
        "id": "4DoJNUOOoMV3",
        "outputId": "02c9c1aa-06ae-4449-d59b-6720475cffa6"
      },
      "execution_count": null,
      "outputs": [
        {
          "output_type": "stream",
          "name": "stdout",
          "text": [
            "name=python\n",
            "last_name=programming language\n",
            "==============\n",
            "name=java\n",
            "last_name=programming laguage\n",
            "mobile=987654321\n",
            "==============\n",
            "address=ameerpet\n",
            "institute=zenvius\n",
            "==============\n"
          ]
        }
      ]
    },
    {
      "cell_type": "code",
      "source": [
        "print(10,20,30,40,50,sep=\"\\n\")"
      ],
      "metadata": {
        "colab": {
          "base_uri": "https://localhost:8080/"
        },
        "id": "evC3PGRToooB",
        "outputId": "552dc780-c502-46aa-c804-c03142d7e50c"
      },
      "execution_count": null,
      "outputs": [
        {
          "output_type": "stream",
          "name": "stdout",
          "text": [
            "10\n",
            "20\n",
            "30\n",
            "40\n",
            "50\n"
          ]
        }
      ]
    },
    {
      "cell_type": "code",
      "source": [
        "def f3(name,age,gender):\n",
        "  print(name,age,gender,sep=\"\\n\")\n",
        "f3(\"balu\",23,\"male\")"
      ],
      "metadata": {
        "colab": {
          "base_uri": "https://localhost:8080/"
        },
        "id": "aIP8i6Cvqm4y",
        "outputId": "fb0a30d4-ab75-448b-9254-30735c4aad62"
      },
      "execution_count": null,
      "outputs": [
        {
          "output_type": "stream",
          "name": "stdout",
          "text": [
            "balu\n",
            "23\n",
            "male\n"
          ]
        }
      ]
    },
    {
      "cell_type": "code",
      "source": [
        "#what do i have to do when you don't know how to deal with no of arguments?\n",
        "def f4(*n):\n",
        "  for x in n:\n",
        "    print(f\"{x}\")\n",
        "f4(\"python\",\"java\",\"c\")"
      ],
      "metadata": {
        "colab": {
          "base_uri": "https://localhost:8080/"
        },
        "id": "qA8f-UgNrAxf",
        "outputId": "5cdd528a-7f6a-4510-ac81-65d4375d7987"
      },
      "execution_count": null,
      "outputs": [
        {
          "output_type": "stream",
          "name": "stdout",
          "text": [
            "python\n",
            "java\n",
            "c\n"
          ]
        }
      ]
    },
    {
      "cell_type": "code",
      "source": [
        "\"\"\" * -->  when you dont know how many arguments your giving use (*)---> arbitrary arguments (ARUGS)\n",
        "and defalt data type for \"aurgs\" is 'Tuple\"\n",
        "    **--> when you dont know hoe many parameters your giving use (**)--> arbitary keyword arguments(kwarugs)\n",
        "and default data type for \"kwargs\" is \"dictionary\" \"\"\""
      ],
      "metadata": {
        "id": "YH45eDFisUR6"
      },
      "execution_count": null,
      "outputs": []
    },
    {
      "cell_type": "code",
      "source": [],
      "metadata": {
        "id": "PBjD_wBlt423"
      },
      "execution_count": null,
      "outputs": []
    },
    {
      "cell_type": "code",
      "source": [
        "import re\n",
        "\n",
        "# Stage 1: Registration\n",
        "def register():\n",
        "    username = input(\"Enter a username (email): \")\n",
        "    if not re.match(r\"[a-zA-Z][a-zA-Z0-9]*@[a-zA-Z0-9]+\\.[a-zA-Z0-9]+\", username):\n",
        "        print(\"Invalid username. Please follow the format: example@gmail.com\")\n",
        "        return\n",
        "\n",
        "    password = input(\"Enter a password (5-16 characters, 1 special, 1 digit, 1 uppercase, 1 lowercase): \")\n",
        "    if not re.match(r\"^(?=.*[a-z])(?=.*[A-Z])(?=.*\\d)(?=.*[@$!%*#?&])[A-Za-z\\d@$!%*#?&]{5,16}$\", password):\n",
        "        print(\"Invalid password. Please follow the format: 1 special, 1 digit, 1 uppercase, 1 lowercase\")\n",
        "        return\n",
        "\n",
        "    # Store data in a file\n",
        "    with open(\"users.txt\", \"a\") as f:\n",
        "        f.write(f\"{username}:{password}\\n\")\n",
        "    print(\"Registration successful!\")\n",
        "\n",
        "# Stage 2: Login\n",
        "def login():\n",
        "    username = input(\"Enter your username: \")\n",
        "    password = input(\"Enter your password: \")\n",
        "\n",
        "    with open(\"users.txt\", \"r\") as f:\n",
        "        for line in f:\n",
        "            stored_username, stored_password = line.strip().split(\":\")\n",
        "            if username == stored_username:\n",
        "                if password == stored_password:\n",
        "                    print(\"Login successful!\")\n",
        "                    return\n",
        "                else:\n",
        "                    print(\"Incorrect password. Forgot password?\")\n",
        "                    forget_password(username)\n",
        "                    return\n",
        "        print(\"Username not found. Please register!\")\n",
        "\n",
        "# Stage 3: Forgot password\n",
        "def forget_password(username):\n",
        "    with open(\"users.txt\", \"r\") as f:\n",
        "        for line in f:\n",
        "            stored_username, stored_password = line.strip().split(\":\")\n",
        "            if username == stored_username:\n",
        "                print(f\"Your password is: {stored_password}\")\n",
        "                return\n",
        "    print(\"Username not found. Please register!\")\n",
        "\n",
        "# Main program\n",
        "while True:\n",
        "    print(\"1. Register\")\n",
        "    print(\"2. Login\")\n",
        "    choice = input(\"Enter your choice: \")\n",
        "    if choice == \"1\":\n",
        "        register()\n",
        "    elif choice == \"2\":\n",
        "        login()\n",
        "    else:\n",
        "        print(\"Invalid choice. Please try again!\")"
      ],
      "metadata": {
        "id": "5AspKFNru83i",
        "colab": {
          "base_uri": "https://localhost:8080/",
          "height": 668
        },
        "outputId": "2d56ae15-d2e4-4ac7-ab5e-a06dcaafb1a6"
      },
      "execution_count": null,
      "outputs": [
        {
          "output_type": "stream",
          "name": "stdout",
          "text": [
            "1. Register\n",
            "2. Login\n",
            "Enter your choice: 1\n",
            "Enter a username (email): balraju#123\n",
            "Invalid username. Please follow the format: example@gmail.com\n",
            "1. Register\n",
            "2. Login\n",
            "Enter your choice: 1\n",
            "Enter a username (email): 2\n",
            "Invalid username. Please follow the format: example@gmail.com\n",
            "1. Register\n",
            "2. Login\n",
            "Enter your choice: 1\n",
            "Enter a username (email): balraju@gmail.com\n",
            "Enter a password (5-16 characters, 1 special, 1 digit, 1 uppercase, 1 lowercase): Balraju@2501\n",
            "Registration successful!\n",
            "1. Register\n",
            "2. Login\n"
          ]
        },
        {
          "output_type": "error",
          "ename": "KeyboardInterrupt",
          "evalue": "Interrupted by user",
          "traceback": [
            "\u001b[0;31m---------------------------------------------------------------------------\u001b[0m",
            "\u001b[0;31mKeyboardInterrupt\u001b[0m                         Traceback (most recent call last)",
            "\u001b[0;32m<ipython-input-11-97610f0f8dab>\u001b[0m in \u001b[0;36m<cell line: 49>\u001b[0;34m()\u001b[0m\n\u001b[1;32m     50\u001b[0m     \u001b[0mprint\u001b[0m\u001b[0;34m(\u001b[0m\u001b[0;34m\"1. Register\"\u001b[0m\u001b[0;34m)\u001b[0m\u001b[0;34m\u001b[0m\u001b[0;34m\u001b[0m\u001b[0m\n\u001b[1;32m     51\u001b[0m     \u001b[0mprint\u001b[0m\u001b[0;34m(\u001b[0m\u001b[0;34m\"2. Login\"\u001b[0m\u001b[0;34m)\u001b[0m\u001b[0;34m\u001b[0m\u001b[0;34m\u001b[0m\u001b[0m\n\u001b[0;32m---> 52\u001b[0;31m     \u001b[0mchoice\u001b[0m \u001b[0;34m=\u001b[0m \u001b[0minput\u001b[0m\u001b[0;34m(\u001b[0m\u001b[0;34m\"Enter your choice: \"\u001b[0m\u001b[0;34m)\u001b[0m\u001b[0;34m\u001b[0m\u001b[0;34m\u001b[0m\u001b[0m\n\u001b[0m\u001b[1;32m     53\u001b[0m     \u001b[0;32mif\u001b[0m \u001b[0mchoice\u001b[0m \u001b[0;34m==\u001b[0m \u001b[0;34m\"1\"\u001b[0m\u001b[0;34m:\u001b[0m\u001b[0;34m\u001b[0m\u001b[0;34m\u001b[0m\u001b[0m\n\u001b[1;32m     54\u001b[0m         \u001b[0mregister\u001b[0m\u001b[0;34m(\u001b[0m\u001b[0;34m)\u001b[0m\u001b[0;34m\u001b[0m\u001b[0;34m\u001b[0m\u001b[0m\n",
            "\u001b[0;32m/usr/local/lib/python3.10/dist-packages/ipykernel/kernelbase.py\u001b[0m in \u001b[0;36mraw_input\u001b[0;34m(self, prompt)\u001b[0m\n\u001b[1;32m    849\u001b[0m                 \u001b[0;34m\"raw_input was called, but this frontend does not support input requests.\"\u001b[0m\u001b[0;34m\u001b[0m\u001b[0;34m\u001b[0m\u001b[0m\n\u001b[1;32m    850\u001b[0m             )\n\u001b[0;32m--> 851\u001b[0;31m         return self._input_request(str(prompt),\n\u001b[0m\u001b[1;32m    852\u001b[0m             \u001b[0mself\u001b[0m\u001b[0;34m.\u001b[0m\u001b[0m_parent_ident\u001b[0m\u001b[0;34m,\u001b[0m\u001b[0;34m\u001b[0m\u001b[0;34m\u001b[0m\u001b[0m\n\u001b[1;32m    853\u001b[0m             \u001b[0mself\u001b[0m\u001b[0;34m.\u001b[0m\u001b[0m_parent_header\u001b[0m\u001b[0;34m,\u001b[0m\u001b[0;34m\u001b[0m\u001b[0;34m\u001b[0m\u001b[0m\n",
            "\u001b[0;32m/usr/local/lib/python3.10/dist-packages/ipykernel/kernelbase.py\u001b[0m in \u001b[0;36m_input_request\u001b[0;34m(self, prompt, ident, parent, password)\u001b[0m\n\u001b[1;32m    893\u001b[0m             \u001b[0;32mexcept\u001b[0m \u001b[0mKeyboardInterrupt\u001b[0m\u001b[0;34m:\u001b[0m\u001b[0;34m\u001b[0m\u001b[0;34m\u001b[0m\u001b[0m\n\u001b[1;32m    894\u001b[0m                 \u001b[0;31m# re-raise KeyboardInterrupt, to truncate traceback\u001b[0m\u001b[0;34m\u001b[0m\u001b[0;34m\u001b[0m\u001b[0m\n\u001b[0;32m--> 895\u001b[0;31m                 \u001b[0;32mraise\u001b[0m \u001b[0mKeyboardInterrupt\u001b[0m\u001b[0;34m(\u001b[0m\u001b[0;34m\"Interrupted by user\"\u001b[0m\u001b[0;34m)\u001b[0m \u001b[0;32mfrom\u001b[0m \u001b[0;32mNone\u001b[0m\u001b[0;34m\u001b[0m\u001b[0;34m\u001b[0m\u001b[0m\n\u001b[0m\u001b[1;32m    896\u001b[0m             \u001b[0;32mexcept\u001b[0m \u001b[0mException\u001b[0m \u001b[0;32mas\u001b[0m \u001b[0me\u001b[0m\u001b[0;34m:\u001b[0m\u001b[0;34m\u001b[0m\u001b[0;34m\u001b[0m\u001b[0m\n\u001b[1;32m    897\u001b[0m                 \u001b[0mself\u001b[0m\u001b[0;34m.\u001b[0m\u001b[0mlog\u001b[0m\u001b[0;34m.\u001b[0m\u001b[0mwarning\u001b[0m\u001b[0;34m(\u001b[0m\u001b[0;34m\"Invalid Message:\"\u001b[0m\u001b[0;34m,\u001b[0m \u001b[0mexc_info\u001b[0m\u001b[0;34m=\u001b[0m\u001b[0;32mTrue\u001b[0m\u001b[0;34m)\u001b[0m\u001b[0;34m\u001b[0m\u001b[0;34m\u001b[0m\u001b[0m\n",
            "\u001b[0;31mKeyboardInterrupt\u001b[0m: Interrupted by user"
          ]
        }
      ]
    },
    {
      "cell_type": "code",
      "source": [],
      "metadata": {
        "id": "9RIGy15TbTXr"
      },
      "execution_count": null,
      "outputs": []
    },
    {
      "cell_type": "code",
      "source": [],
      "metadata": {
        "id": "0XWV5WUPbbsg"
      },
      "execution_count": null,
      "outputs": []
    },
    {
      "cell_type": "code",
      "source": [],
      "metadata": {
        "id": "4O4hVMMlbqr0"
      },
      "execution_count": null,
      "outputs": []
    },
    {
      "cell_type": "code",
      "source": [],
      "metadata": {
        "id": "fepUPjVxq9i8"
      },
      "execution_count": null,
      "outputs": []
    },
    {
      "cell_type": "code",
      "source": [],
      "metadata": {
        "id": "kc0hIl8Fu1AM"
      },
      "execution_count": null,
      "outputs": []
    }
  ]
}